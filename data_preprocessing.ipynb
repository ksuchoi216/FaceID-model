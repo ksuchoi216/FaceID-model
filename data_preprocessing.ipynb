{
 "cells": [
  {
   "cell_type": "markdown",
   "metadata": {},
   "source": [
    "Setting up system path and loading config file"
   ]
  },
  {
   "cell_type": "code",
   "execution_count": 28,
   "metadata": {},
   "outputs": [
    {
     "name": "stdout",
     "output_type": "stream",
     "text": [
      "The autoreload extension is already loaded. To reload it, use:\n",
      "  %reload_ext autoreload\n",
      "isLocalServer is False\n",
      "/Volumes/ssd/code/FaceID-model\n",
      "{'folder_name_for_source': 'source', 'user_names': ['jhyoo', 'jhoh', 'jhongyoo', 'kschoi'], 'ExtractorPhotosFromVideo': {'IsSavePhoto': False, 'IsSaveFace': False, 'folder_name_for_video': 'video_220908', 'folder_name_to_save_photos': 'photos_from_video', 'video_names': ['1', '2', '3', '4'], 'video_extension': '.mp4', 'frame_count_limit': 100, 'frame_interval_for_sampling': 25}, 'ExtractorFacesFromPhotos': {'folder_name_for_photos': 'photos_from_video', 'folder_name_to_save_faces': 'faces_from_photos', 'image_size': 240, 'filter_with_face_prob': True}, 'DatasetBasedOnFolders': {'folder_name_for_images': 'faces_from_photos', 'image_rotation_angle': 10, 'image_size': 240, 'pretrained': 'vggface2', 'file_name_to_save_numpy': 'face_data'}}\n"
     ]
    }
   ],
   "source": [
    "isLocalServer = False\n",
    "sys_path_to_be_added = '/notebook/personal/ksuchoi216/FaceID-model/'\n",
    "config_path = './configs/config.json'\n",
    "\n",
    "%load_ext autoreload\n",
    "%autoreload 2\n",
    "%matplotlib inline\n",
    "\n",
    "import sys\n",
    "import os\n",
    "\n",
    "def checkLocalServer(isLocalServer, sys_path_to_be_added=None):\n",
    "    print(f'isLocalServer is {isLocalServer}')\n",
    "    if isLocalServer is True:\n",
    "        if sys_path_to_be_added not in sys.path:\n",
    "            sys.path.insert(0, sys_path_to_be_added)\n",
    "            os.chdir(sys_path_to_be_added)\n",
    "\n",
    "        # print(\"System path as follows:\")\n",
    "        # for path in sys.path:\n",
    "        #     print(f\"{path}\")\n",
    "\n",
    "checkLocalServer(isLocalServer, sys_path_to_be_added)\n",
    "\n",
    "from utils import Config_Manager\n",
    "cfgm = Config_Manager(config_path)\n",
    "cfg = cfgm.get_cfg()\n",
    "!pwd\n",
    "print(cfg)"
   ]
  },
  {
   "cell_type": "code",
   "execution_count": 34,
   "metadata": {},
   "outputs": [
    {
     "name": "stderr",
     "output_type": "stream",
     "text": [
      "[autoreload of data_preprocessing.custom_dataset failed: Traceback (most recent call last):\n",
      "  File \"/Users/KC/opt/anaconda3/lib/python3.8/site-packages/IPython/extensions/autoreload.py\", line 245, in check\n",
      "    superreload(m, reload, self.old_objects)\n",
      "  File \"/Users/KC/opt/anaconda3/lib/python3.8/site-packages/IPython/extensions/autoreload.py\", line 394, in superreload\n",
      "    module = reload(module)\n",
      "  File \"/Users/KC/opt/anaconda3/lib/python3.8/imp.py\", line 314, in reload\n",
      "    return importlib.reload(module)\n",
      "  File \"/Users/KC/opt/anaconda3/lib/python3.8/importlib/__init__.py\", line 169, in reload\n",
      "    _bootstrap._exec(spec, module)\n",
      "  File \"<frozen importlib._bootstrap>\", line 604, in _exec\n",
      "  File \"<frozen importlib._bootstrap_external>\", line 779, in exec_module\n",
      "  File \"<frozen importlib._bootstrap_external>\", line 916, in get_code\n",
      "  File \"<frozen importlib._bootstrap_external>\", line 846, in source_to_code\n",
      "  File \"<frozen importlib._bootstrap>\", line 219, in _call_with_frames_removed\n",
      "  File \"/Volumes/ssd/code/FaceID-model/data_preprocessing/custom_dataset.py\", line 113\n",
      "    \n",
      "    ^\n",
      "SyntaxError: unexpected EOF while parsing\n",
      "]\n"
     ]
    },
    {
     "name": "stdout",
     "output_type": "stream",
     "text": [
      "device is cpu\n",
      "image size: 240\n",
      "Loading faces from ./source/faces_from_photos\n"
     ]
    }
   ],
   "source": [
    "from data_preprocessing import DatasetBasedOnFolders\n",
    "cfg[\"DatasetBasedOnFolders\"][\"folder_name_for_source\"] = cfg[\"folder_name_for_source\"]\n",
    "datasetBasedOnFolders = DatasetBasedOnFolders(cfg[\"DatasetBasedOnFolders\"])"
   ]
  },
  {
   "cell_type": "code",
   "execution_count": 33,
   "metadata": {},
   "outputs": [
    {
     "name": "stdout",
     "output_type": "stream",
     "text": [
      "(399, 1, 512)\n",
      "(399,)\n"
     ]
    }
   ],
   "source": [
    "datasetBasedOnFolders.loadNumpy()"
   ]
  },
  {
   "cell_type": "code",
   "execution_count": null,
   "metadata": {},
   "outputs": [],
   "source": []
  }
 ],
 "metadata": {
  "kernelspec": {
   "display_name": "Python 3.8.8 ('base')",
   "language": "python",
   "name": "python3"
  },
  "language_info": {
   "codemirror_mode": {
    "name": "ipython",
    "version": 3
   },
   "file_extension": ".py",
   "mimetype": "text/x-python",
   "name": "python",
   "nbconvert_exporter": "python",
   "pygments_lexer": "ipython3",
   "version": "3.8.8"
  },
  "orig_nbformat": 4,
  "vscode": {
   "interpreter": {
    "hash": "45d80257ccf4ae77bb116447a323b4ded5c7d4f4eb3ea993cf039511269910c8"
   }
  }
 },
 "nbformat": 4,
 "nbformat_minor": 2
}
