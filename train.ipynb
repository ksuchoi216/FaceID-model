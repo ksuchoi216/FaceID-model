{
 "cells": [
  {
   "cell_type": "markdown",
   "metadata": {},
   "source": [
    "# Transfer Learning"
   ]
  },
  {
   "cell_type": "code",
   "execution_count": 21,
   "metadata": {
    "vscode": {
     "languageId": "python"
    }
   },
   "outputs": [
    {
     "name": "stdout",
     "output_type": "stream",
     "text": [
      "Mon Aug 29 14:52:13 2022       \n",
      "+-----------------------------------------------------------------------------+\n",
      "| NVIDIA-SMI 470.129.06   Driver Version: 470.129.06   CUDA Version: 11.4     |\n",
      "|-------------------------------+----------------------+----------------------+\n",
      "| GPU  Name        Persistence-M| Bus-Id        Disp.A | Volatile Uncorr. ECC |\n",
      "| Fan  Temp  Perf  Pwr:Usage/Cap|         Memory-Usage | GPU-Util  Compute M. |\n",
      "|                               |                      |               MIG M. |\n",
      "|===============================+======================+======================|\n",
      "|   0  Tesla P100-PCIE...  Off  | 00000000:04:00.0 Off |                    0 |\n",
      "| N/A   33C    P0    33W / 250W |    729MiB / 16280MiB |      0%      Default |\n",
      "|                               |                      |                  N/A |\n",
      "+-------------------------------+----------------------+----------------------+\n",
      "|   1  Tesla P100-PCIE...  Off  | 00000000:06:00.0 Off |                    0 |\n",
      "| N/A   35C    P0    28W / 250W |      2MiB / 16280MiB |      0%      Default |\n",
      "|                               |                      |                  N/A |\n",
      "+-------------------------------+----------------------+----------------------+\n",
      "|   2  Tesla P100-PCIE...  Off  | 00000000:07:00.0 Off |                    0 |\n",
      "| N/A   31C    P0    26W / 250W |      2MiB / 16280MiB |      0%      Default |\n",
      "|                               |                      |                  N/A |\n",
      "+-------------------------------+----------------------+----------------------+\n",
      "|   3  Tesla P100-PCIE...  Off  | 00000000:08:00.0 Off |                    0 |\n",
      "| N/A   33C    P0    26W / 250W |      2MiB / 16280MiB |      0%      Default |\n",
      "|                               |                      |                  N/A |\n",
      "+-------------------------------+----------------------+----------------------+\n",
      "|   4  Tesla P100-PCIE...  Off  | 00000000:0C:00.0 Off |                    0 |\n",
      "| N/A   34C    P0    26W / 250W |      2MiB / 16280MiB |      0%      Default |\n",
      "|                               |                      |                  N/A |\n",
      "+-------------------------------+----------------------+----------------------+\n",
      "|   5  Tesla P100-PCIE...  Off  | 00000000:0D:00.0 Off |                    0 |\n",
      "| N/A   33C    P0    27W / 250W |      2MiB / 16280MiB |      0%      Default |\n",
      "|                               |                      |                  N/A |\n",
      "+-------------------------------+----------------------+----------------------+\n",
      "|   6  Tesla P100-PCIE...  Off  | 00000000:0E:00.0 Off |                    0 |\n",
      "| N/A   35C    P0    27W / 250W |      2MiB / 16280MiB |      0%      Default |\n",
      "|                               |                      |                  N/A |\n",
      "+-------------------------------+----------------------+----------------------+\n",
      "|   7  Tesla P100-PCIE...  Off  | 00000000:0F:00.0 Off |                    0 |\n",
      "| N/A   35C    P0    27W / 250W |      2MiB / 16280MiB |      0%      Default |\n",
      "|                               |                      |                  N/A |\n",
      "+-------------------------------+----------------------+----------------------+\n",
      "                                                                               \n",
      "+-----------------------------------------------------------------------------+\n",
      "| Processes:                                                                  |\n",
      "|  GPU   GI   CI        PID   Type   Process name                  GPU Memory |\n",
      "|        ID   ID                                                   Usage      |\n",
      "|=============================================================================|\n",
      "+-----------------------------------------------------------------------------+\n",
      "/notebook\n"
     ]
    }
   ],
   "source": [
    "!nvidia-smi\n",
    "!pwd\n",
    "isLocalServer = True"
   ]
  },
  {
   "cell_type": "code",
   "execution_count": 22,
   "metadata": {
    "vscode": {
     "languageId": "python"
    }
   },
   "outputs": [
    {
     "name": "stdout",
     "output_type": "stream",
     "text": [
      "sys.path: ['/notebook/personal/ksuchoi216/face-id-model/', '/notebook', '/root/.pyenv/versions/3.9.1/lib/python39.zip', '/root/.pyenv/versions/3.9.1/lib/python3.9', '/root/.pyenv/versions/3.9.1/lib/python3.9/lib-dynload', '', '/root/.pyenv/versions/python39/lib/python3.9/site-packages']\n"
     ]
    }
   ],
   "source": [
    "%load_ext autoreload\n",
    "%autoreload 2\n",
    "%matplotlib inline\n",
    "import json, os, sys\n",
    "import matplotlib.pyplot as plt\n",
    "\n",
    "import torch\n",
    "import torch.nn as nn\n",
    "from torch.nn import functional as F\n",
    "import torch.optim as optim\n",
    "from torch.optim import lr_scheduler\n",
    "import torch.backends.cudnn as cudnn\n",
    "\n",
    "cudnn.benchmark = True\n",
    "plt.ion()\n",
    "\n",
    "if isLocalServer is True:\n",
    "  path_to_be_add = '/notebook/personal/ksuchoi216/face-id-model/'\n",
    "  if not path_to_be_add in sys.path:\n",
    "    sys.path.insert(0, path_to_be_add)\n",
    "    os.chdir(path_to_be_add)\n",
    "\n",
    "  print(f'sys.path: {sys.path}')\n",
    "\n",
    "def load_config():\n",
    "  path_for_config = './configs/config.json'\n",
    "  with open(path_for_config) as f:\n",
    "    cfg = json.load(f)\n",
    "  \n",
    "  return cfg\n",
    "cfg = load_config()\n"
   ]
  },
  {
   "cell_type": "code",
   "execution_count": 23,
   "metadata": {
    "vscode": {
     "languageId": "python"
    }
   },
   "outputs": [
    {
     "name": "stdout",
     "output_type": "stream",
     "text": [
      "250\n",
      " data \n",
      "0 jhoh\n",
      "1 jhongyoo\n",
      "2 jhyoo\n",
      "3 kschoi\n",
      "batch_size: 4 \n",
      "\n",
      "dataset length: (608) = tr (486) + val (60) + tt (62)\n",
      "image dimension: (3, 250, 250)\n"
     ]
    },
    {
     "data": {
      "image/png": "[encoded data removed]",
      "text/plain": [
       "<Figure size 432x288 with 1 Axes>"
      ]
     },
     "metadata": {
      "needs_background": "light"
     },
     "output_type": "display_data"
    },
    {
     "name": "stdout",
     "output_type": "stream",
     "text": [
      "input shape: torch.Size([3, 250, 250]) / label shape: torch.Size([]) / label: 2\n",
      "input shape: torch.Size([3, 250, 250]) / label shape: torch.Size([]) / label: 2\n",
      "input shape: torch.Size([3, 250, 250]) / label shape: torch.Size([]) / label: 3\n",
      "input shape: torch.Size([3, 250, 250]) / label shape: torch.Size([]) / label: 0\n"
     ]
    }
   ],
   "source": [
    "from datasets import Folder_Dataset\n",
    "from utils import imshow_dataloader\n",
    "folder_Dataset = Folder_Dataset(cfg['data'])\n",
    "dataloaders, dataset_sizes, idx_to_class = folder_Dataset.createDataLoaders()\n",
    "\n",
    "# show a example picture \n",
    "image_size = imshow_dataloader(dataloaders[\"train\"])\n",
    "\n",
    "phase=\"train\"\n",
    "for i, (inputs, labels) in enumerate(dataloaders[phase]):\n",
    "  if i > 3:\n",
    "    break\n",
    "  \n",
    "  print(f'input shape: {inputs[0].shape} / label shape: {labels[0].shape} / label: {labels[0]}')\n",
    "  "
   ]
  },
  {
   "cell_type": "code",
   "execution_count": 24,
   "metadata": {
    "vscode": {
     "languageId": "python"
    }
   },
   "outputs": [
    {
     "name": "stdout",
     "output_type": "stream",
     "text": [
      "device is cuda:0\n",
      "Loading model was just completed.\n",
      "(3, 250, 250)\n",
      "----------------------------------------------------------------\n",
      "        Layer (type)               Output Shape         Param #\n",
      "================================================================\n",
      "            Conv2d-1         [-1, 32, 124, 124]             864\n",
      "       BatchNorm2d-2         [-1, 32, 124, 124]              64\n",
      "              ReLU-3         [-1, 32, 124, 124]               0\n",
      "       BasicConv2d-4         [-1, 32, 124, 124]               0\n",
      "            Conv2d-5         [-1, 32, 122, 122]           9,216\n",
      "       BatchNorm2d-6         [-1, 32, 122, 122]              64\n",
      "              ReLU-7         [-1, 32, 122, 122]               0\n",
      "       BasicConv2d-8         [-1, 32, 122, 122]               0\n",
      "            Conv2d-9         [-1, 64, 122, 122]          18,432\n",
      "      BatchNorm2d-10         [-1, 64, 122, 122]             128\n",
      "             ReLU-11         [-1, 64, 122, 122]               0\n",
      "      BasicConv2d-12         [-1, 64, 122, 122]               0\n",
      "        MaxPool2d-13           [-1, 64, 60, 60]               0\n",
      "           Conv2d-14           [-1, 80, 60, 60]           5,120\n",
      "      BatchNorm2d-15           [-1, 80, 60, 60]             160\n",
      "             ReLU-16           [-1, 80, 60, 60]               0\n",
      "      BasicConv2d-17           [-1, 80, 60, 60]               0\n",
      "           Conv2d-18          [-1, 192, 58, 58]         138,240\n",
      "      BatchNorm2d-19          [-1, 192, 58, 58]             384\n",
      "             ReLU-20          [-1, 192, 58, 58]               0\n",
      "      BasicConv2d-21          [-1, 192, 58, 58]               0\n",
      "           Conv2d-22          [-1, 256, 28, 28]         442,368\n",
      "      BatchNorm2d-23          [-1, 256, 28, 28]             512\n",
      "             ReLU-24          [-1, 256, 28, 28]               0\n",
      "      BasicConv2d-25          [-1, 256, 28, 28]               0\n",
      "           Conv2d-26           [-1, 32, 28, 28]           8,192\n",
      "      BatchNorm2d-27           [-1, 32, 28, 28]              64\n",
      "             ReLU-28           [-1, 32, 28, 28]               0\n",
      "      BasicConv2d-29           [-1, 32, 28, 28]               0\n",
      "           Conv2d-30           [-1, 32, 28, 28]           8,192\n",
      "      BatchNorm2d-31           [-1, 32, 28, 28]              64\n",
      "             ReLU-32           [-1, 32, 28, 28]               0\n",
      "      BasicConv2d-33           [-1, 32, 28, 28]               0\n",
      "           Conv2d-34           [-1, 32, 28, 28]           9,216\n",
      "      BatchNorm2d-35           [-1, 32, 28, 28]              64\n",
      "             ReLU-36           [-1, 32, 28, 28]               0\n",
      "      BasicConv2d-37           [-1, 32, 28, 28]               0\n",
      "           Conv2d-38           [-1, 32, 28, 28]           8,192\n",
      "      BatchNorm2d-39           [-1, 32, 28, 28]              64\n",
      "             ReLU-40           [-1, 32, 28, 28]               0\n",
      "      BasicConv2d-41           [-1, 32, 28, 28]               0\n",
      "           Conv2d-42           [-1, 32, 28, 28]           9,216\n",
      "      BatchNorm2d-43           [-1, 32, 28, 28]              64\n",
      "             ReLU-44           [-1, 32, 28, 28]               0\n",
      "      BasicConv2d-45           [-1, 32, 28, 28]               0\n",
      "           Conv2d-46           [-1, 32, 28, 28]           9,216\n",
      "      BatchNorm2d-47           [-1, 32, 28, 28]              64\n",
      "             ReLU-48           [-1, 32, 28, 28]               0\n",
      "      BasicConv2d-49           [-1, 32, 28, 28]               0\n",
      "           Conv2d-50          [-1, 256, 28, 28]          24,832\n",
      "             ReLU-51          [-1, 256, 28, 28]               0\n",
      "          Block35-52          [-1, 256, 28, 28]               0\n",
      "           Conv2d-53           [-1, 32, 28, 28]           8,192\n",
      "      BatchNorm2d-54           [-1, 32, 28, 28]              64\n",
      "             ReLU-55           [-1, 32, 28, 28]               0\n",
      "      BasicConv2d-56           [-1, 32, 28, 28]               0\n",
      "           Conv2d-57           [-1, 32, 28, 28]           8,192\n",
      "      BatchNorm2d-58           [-1, 32, 28, 28]              64\n",
      "             ReLU-59           [-1, 32, 28, 28]               0\n",
      "      BasicConv2d-60           [-1, 32, 28, 28]               0\n",
      "           Conv2d-61           [-1, 32, 28, 28]           9,216\n",
      "      BatchNorm2d-62           [-1, 32, 28, 28]              64\n",
      "             ReLU-63           [-1, 32, 28, 28]               0\n",
      "      BasicConv2d-64           [-1, 32, 28, 28]               0\n",
      "           Conv2d-65           [-1, 32, 28, 28]           8,192\n",
      "      BatchNorm2d-66           [-1, 32, 28, 28]              64\n",
      "             ReLU-67           [-1, 32, 28, 28]               0\n",
      "      BasicConv2d-68           [-1, 32, 28, 28]               0\n",
      "           Conv2d-69           [-1, 32, 28, 28]           9,216\n",
      "      BatchNorm2d-70           [-1, 32, 28, 28]              64\n",
      "             ReLU-71           [-1, 32, 28, 28]               0\n",
      "      BasicConv2d-72           [-1, 32, 28, 28]               0\n",
      "           Conv2d-73           [-1, 32, 28, 28]           9,216\n",
      "      BatchNorm2d-74           [-1, 32, 28, 28]              64\n",
      "             ReLU-75           [-1, 32, 28, 28]               0\n",
      "      BasicConv2d-76           [-1, 32, 28, 28]               0\n",
      "           Conv2d-77          [-1, 256, 28, 28]          24,832\n",
      "             ReLU-78          [-1, 256, 28, 28]               0\n",
      "          Block35-79          [-1, 256, 28, 28]               0\n",
      "           Conv2d-80           [-1, 32, 28, 28]           8,192\n",
      "      BatchNorm2d-81           [-1, 32, 28, 28]              64\n",
      "             ReLU-82           [-1, 32, 28, 28]               0\n",
      "      BasicConv2d-83           [-1, 32, 28, 28]               0\n",
      "           Conv2d-84           [-1, 32, 28, 28]           8,192\n",
      "      BatchNorm2d-85           [-1, 32, 28, 28]              64\n",
      "             ReLU-86           [-1, 32, 28, 28]               0\n",
      "      BasicConv2d-87           [-1, 32, 28, 28]               0\n",
      "           Conv2d-88           [-1, 32, 28, 28]           9,216\n",
      "      BatchNorm2d-89           [-1, 32, 28, 28]              64\n",
      "             ReLU-90           [-1, 32, 28, 28]               0\n",
      "      BasicConv2d-91           [-1, 32, 28, 28]               0\n",
      "           Conv2d-92           [-1, 32, 28, 28]           8,192\n",
      "      BatchNorm2d-93           [-1, 32, 28, 28]              64\n",
      "             ReLU-94           [-1, 32, 28, 28]               0\n",
      "      BasicConv2d-95           [-1, 32, 28, 28]               0\n",
      "           Conv2d-96           [-1, 32, 28, 28]           9,216\n",
      "      BatchNorm2d-97           [-1, 32, 28, 28]              64\n",
      "             ReLU-98           [-1, 32, 28, 28]               0\n",
      "      BasicConv2d-99           [-1, 32, 28, 28]               0\n",
      "          Conv2d-100           [-1, 32, 28, 28]           9,216\n",
      "     BatchNorm2d-101           [-1, 32, 28, 28]              64\n",
      "            ReLU-102           [-1, 32, 28, 28]               0\n",
      "     BasicConv2d-103           [-1, 32, 28, 28]               0\n",
      "          Conv2d-104          [-1, 256, 28, 28]          24,832\n",
      "            ReLU-105          [-1, 256, 28, 28]               0\n",
      "         Block35-106          [-1, 256, 28, 28]               0\n",
      "          Conv2d-107           [-1, 32, 28, 28]           8,192\n",
      "     BatchNorm2d-108           [-1, 32, 28, 28]              64\n",
      "            ReLU-109           [-1, 32, 28, 28]               0\n",
      "     BasicConv2d-110           [-1, 32, 28, 28]               0\n",
      "          Conv2d-111           [-1, 32, 28, 28]           8,192\n",
      "     BatchNorm2d-112           [-1, 32, 28, 28]              64\n",
      "            ReLU-113           [-1, 32, 28, 28]               0\n",
      "     BasicConv2d-114           [-1, 32, 28, 28]               0\n",
      "          Conv2d-115           [-1, 32, 28, 28]           9,216\n",
      "     BatchNorm2d-116           [-1, 32, 28, 28]              64\n",
      "            ReLU-117           [-1, 32, 28, 28]               0\n",
      "     BasicConv2d-118           [-1, 32, 28, 28]               0\n",
      "          Conv2d-119           [-1, 32, 28, 28]           8,192\n",
      "     BatchNorm2d-120           [-1, 32, 28, 28]              64\n",
      "            ReLU-121           [-1, 32, 28, 28]               0\n",
      "     BasicConv2d-122           [-1, 32, 28, 28]               0\n",
      "          Conv2d-123           [-1, 32, 28, 28]           9,216\n",
      "     BatchNorm2d-124           [-1, 32, 28, 28]              64\n",
      "            ReLU-125           [-1, 32, 28, 28]               0\n",
      "     BasicConv2d-126           [-1, 32, 28, 28]               0\n",
      "          Conv2d-127           [-1, 32, 28, 28]           9,216\n",
      "     BatchNorm2d-128           [-1, 32, 28, 28]              64\n",
      "            ReLU-129           [-1, 32, 28, 28]               0\n",
      "     BasicConv2d-130           [-1, 32, 28, 28]               0\n",
      "          Conv2d-131          [-1, 256, 28, 28]          24,832\n",
      "            ReLU-132          [-1, 256, 28, 28]               0\n",
      "         Block35-133          [-1, 256, 28, 28]               0\n",
      "          Conv2d-134           [-1, 32, 28, 28]           8,192\n",
      "     BatchNorm2d-135           [-1, 32, 28, 28]              64\n",
      "            ReLU-136           [-1, 32, 28, 28]               0\n",
      "     BasicConv2d-137           [-1, 32, 28, 28]               0\n",
      "          Conv2d-138           [-1, 32, 28, 28]           8,192\n",
      "     BatchNorm2d-139           [-1, 32, 28, 28]              64\n",
      "            ReLU-140           [-1, 32, 28, 28]               0\n",
      "     BasicConv2d-141           [-1, 32, 28, 28]               0\n",
      "          Conv2d-142           [-1, 32, 28, 28]           9,216\n",
      "     BatchNorm2d-143           [-1, 32, 28, 28]              64\n",
      "            ReLU-144           [-1, 32, 28, 28]               0\n",
      "     BasicConv2d-145           [-1, 32, 28, 28]               0\n",
      "          Conv2d-146           [-1, 32, 28, 28]           8,192\n",
      "     BatchNorm2d-147           [-1, 32, 28, 28]              64\n",
      "            ReLU-148           [-1, 32, 28, 28]               0\n",
      "     BasicConv2d-149           [-1, 32, 28, 28]               0\n",
      "          Conv2d-150           [-1, 32, 28, 28]           9,216\n",
      "     BatchNorm2d-151           [-1, 32, 28, 28]              64\n",
      "            ReLU-152           [-1, 32, 28, 28]               0\n",
      "     BasicConv2d-153           [-1, 32, 28, 28]               0\n",
      "          Conv2d-154           [-1, 32, 28, 28]           9,216\n",
      "     BatchNorm2d-155           [-1, 32, 28, 28]              64\n",
      "            ReLU-156           [-1, 32, 28, 28]               0\n",
      "     BasicConv2d-157           [-1, 32, 28, 28]               0\n",
      "          Conv2d-158          [-1, 256, 28, 28]          24,832\n",
      "            ReLU-159          [-1, 256, 28, 28]               0\n",
      "         Block35-160          [-1, 256, 28, 28]               0\n",
      "          Conv2d-161          [-1, 384, 13, 13]         884,736\n",
      "     BatchNorm2d-162          [-1, 384, 13, 13]             768\n",
      "            ReLU-163          [-1, 384, 13, 13]               0\n",
      "     BasicConv2d-164          [-1, 384, 13, 13]               0\n",
      "          Conv2d-165          [-1, 192, 28, 28]          49,152\n",
      "     BatchNorm2d-166          [-1, 192, 28, 28]             384\n",
      "            ReLU-167          [-1, 192, 28, 28]               0\n",
      "     BasicConv2d-168          [-1, 192, 28, 28]               0\n",
      "          Conv2d-169          [-1, 192, 28, 28]         331,776\n",
      "     BatchNorm2d-170          [-1, 192, 28, 28]             384\n",
      "            ReLU-171          [-1, 192, 28, 28]               0\n",
      "     BasicConv2d-172          [-1, 192, 28, 28]               0\n",
      "          Conv2d-173          [-1, 256, 13, 13]         442,368\n",
      "     BatchNorm2d-174          [-1, 256, 13, 13]             512\n",
      "            ReLU-175          [-1, 256, 13, 13]               0\n",
      "     BasicConv2d-176          [-1, 256, 13, 13]               0\n",
      "       MaxPool2d-177          [-1, 256, 13, 13]               0\n",
      "        Mixed_6a-178          [-1, 896, 13, 13]               0\n",
      "          Conv2d-179          [-1, 128, 13, 13]         114,688\n",
      "     BatchNorm2d-180          [-1, 128, 13, 13]             256\n",
      "            ReLU-181          [-1, 128, 13, 13]               0\n",
      "     BasicConv2d-182          [-1, 128, 13, 13]               0\n",
      "          Conv2d-183          [-1, 128, 13, 13]         114,688\n",
      "     BatchNorm2d-184          [-1, 128, 13, 13]             256\n",
      "            ReLU-185          [-1, 128, 13, 13]               0\n",
      "     BasicConv2d-186          [-1, 128, 13, 13]               0\n",
      "          Conv2d-187          [-1, 128, 13, 13]         114,688\n",
      "     BatchNorm2d-188          [-1, 128, 13, 13]             256\n",
      "            ReLU-189          [-1, 128, 13, 13]               0\n",
      "     BasicConv2d-190          [-1, 128, 13, 13]               0\n",
      "          Conv2d-191          [-1, 128, 13, 13]         114,688\n",
      "     BatchNorm2d-192          [-1, 128, 13, 13]             256\n",
      "            ReLU-193          [-1, 128, 13, 13]               0\n",
      "     BasicConv2d-194          [-1, 128, 13, 13]               0\n",
      "          Conv2d-195          [-1, 896, 13, 13]         230,272\n",
      "            ReLU-196          [-1, 896, 13, 13]               0\n",
      "         Block17-197          [-1, 896, 13, 13]               0\n",
      "          Conv2d-198          [-1, 128, 13, 13]         114,688\n",
      "     BatchNorm2d-199          [-1, 128, 13, 13]             256\n",
      "            ReLU-200          [-1, 128, 13, 13]               0\n",
      "     BasicConv2d-201          [-1, 128, 13, 13]               0\n",
      "          Conv2d-202          [-1, 128, 13, 13]         114,688\n",
      "     BatchNorm2d-203          [-1, 128, 13, 13]             256\n",
      "            ReLU-204          [-1, 128, 13, 13]               0\n",
      "     BasicConv2d-205          [-1, 128, 13, 13]               0\n",
      "          Conv2d-206          [-1, 128, 13, 13]         114,688\n",
      "     BatchNorm2d-207          [-1, 128, 13, 13]             256\n",
      "            ReLU-208          [-1, 128, 13, 13]               0\n",
      "     BasicConv2d-209          [-1, 128, 13, 13]               0\n",
      "          Conv2d-210          [-1, 128, 13, 13]         114,688\n",
      "     BatchNorm2d-211          [-1, 128, 13, 13]             256\n",
      "            ReLU-212          [-1, 128, 13, 13]               0\n",
      "     BasicConv2d-213          [-1, 128, 13, 13]               0\n",
      "          Conv2d-214          [-1, 896, 13, 13]         230,272\n",
      "            ReLU-215          [-1, 896, 13, 13]               0\n",
      "         Block17-216          [-1, 896, 13, 13]               0\n",
      "          Conv2d-217          [-1, 128, 13, 13]         114,688\n",
      "     BatchNorm2d-218          [-1, 128, 13, 13]             256\n",
      "            ReLU-219          [-1, 128, 13, 13]               0\n",
      "     BasicConv2d-220          [-1, 128, 13, 13]               0\n",
      "          Conv2d-221          [-1, 128, 13, 13]         114,688\n",
      "     BatchNorm2d-222          [-1, 128, 13, 13]             256\n",
      "            ReLU-223          [-1, 128, 13, 13]               0\n",
      "     BasicConv2d-224          [-1, 128, 13, 13]               0\n",
      "          Conv2d-225          [-1, 128, 13, 13]         114,688\n",
      "     BatchNorm2d-226          [-1, 128, 13, 13]             256\n",
      "            ReLU-227          [-1, 128, 13, 13]               0\n",
      "     BasicConv2d-228          [-1, 128, 13, 13]               0\n",
      "          Conv2d-229          [-1, 128, 13, 13]         114,688\n",
      "     BatchNorm2d-230          [-1, 128, 13, 13]             256\n",
      "            ReLU-231          [-1, 128, 13, 13]               0\n",
      "     BasicConv2d-232          [-1, 128, 13, 13]               0\n",
      "          Conv2d-233          [-1, 896, 13, 13]         230,272\n",
      "            ReLU-234          [-1, 896, 13, 13]               0\n",
      "         Block17-235          [-1, 896, 13, 13]               0\n",
      "          Conv2d-236          [-1, 128, 13, 13]         114,688\n",
      "     BatchNorm2d-237          [-1, 128, 13, 13]             256\n",
      "            ReLU-238          [-1, 128, 13, 13]               0\n",
      "     BasicConv2d-239          [-1, 128, 13, 13]               0\n",
      "          Conv2d-240          [-1, 128, 13, 13]         114,688\n",
      "     BatchNorm2d-241          [-1, 128, 13, 13]             256\n",
      "            ReLU-242          [-1, 128, 13, 13]               0\n",
      "     BasicConv2d-243          [-1, 128, 13, 13]               0\n",
      "          Conv2d-244          [-1, 128, 13, 13]         114,688\n",
      "     BatchNorm2d-245          [-1, 128, 13, 13]             256\n",
      "            ReLU-246          [-1, 128, 13, 13]               0\n",
      "     BasicConv2d-247          [-1, 128, 13, 13]               0\n",
      "          Conv2d-248          [-1, 128, 13, 13]         114,688\n",
      "     BatchNorm2d-249          [-1, 128, 13, 13]             256\n",
      "            ReLU-250          [-1, 128, 13, 13]               0\n",
      "     BasicConv2d-251          [-1, 128, 13, 13]               0\n",
      "          Conv2d-252          [-1, 896, 13, 13]         230,272\n",
      "            ReLU-253          [-1, 896, 13, 13]               0\n",
      "         Block17-254          [-1, 896, 13, 13]               0\n",
      "          Conv2d-255          [-1, 128, 13, 13]         114,688\n",
      "     BatchNorm2d-256          [-1, 128, 13, 13]             256\n",
      "            ReLU-257          [-1, 128, 13, 13]               0\n",
      "     BasicConv2d-258          [-1, 128, 13, 13]               0\n",
      "          Conv2d-259          [-1, 128, 13, 13]         114,688\n",
      "     BatchNorm2d-260          [-1, 128, 13, 13]             256\n",
      "            ReLU-261          [-1, 128, 13, 13]               0\n",
      "     BasicConv2d-262          [-1, 128, 13, 13]               0\n",
      "          Conv2d-263          [-1, 128, 13, 13]         114,688\n",
      "     BatchNorm2d-264          [-1, 128, 13, 13]             256\n",
      "            ReLU-265          [-1, 128, 13, 13]               0\n",
      "     BasicConv2d-266          [-1, 128, 13, 13]               0\n",
      "          Conv2d-267          [-1, 128, 13, 13]         114,688\n",
      "     BatchNorm2d-268          [-1, 128, 13, 13]             256\n",
      "            ReLU-269          [-1, 128, 13, 13]               0\n",
      "     BasicConv2d-270          [-1, 128, 13, 13]               0\n",
      "          Conv2d-271          [-1, 896, 13, 13]         230,272\n",
      "            ReLU-272          [-1, 896, 13, 13]               0\n",
      "         Block17-273          [-1, 896, 13, 13]               0\n",
      "          Conv2d-274          [-1, 128, 13, 13]         114,688\n",
      "     BatchNorm2d-275          [-1, 128, 13, 13]             256\n",
      "            ReLU-276          [-1, 128, 13, 13]               0\n",
      "     BasicConv2d-277          [-1, 128, 13, 13]               0\n",
      "          Conv2d-278          [-1, 128, 13, 13]         114,688\n",
      "     BatchNorm2d-279          [-1, 128, 13, 13]             256\n",
      "            ReLU-280          [-1, 128, 13, 13]               0\n",
      "     BasicConv2d-281          [-1, 128, 13, 13]               0\n",
      "          Conv2d-282          [-1, 128, 13, 13]         114,688\n",
      "     BatchNorm2d-283          [-1, 128, 13, 13]             256\n",
      "            ReLU-284          [-1, 128, 13, 13]               0\n",
      "     BasicConv2d-285          [-1, 128, 13, 13]               0\n",
      "          Conv2d-286          [-1, 128, 13, 13]         114,688\n",
      "     BatchNorm2d-287          [-1, 128, 13, 13]             256\n",
      "            ReLU-288          [-1, 128, 13, 13]               0\n",
      "     BasicConv2d-289          [-1, 128, 13, 13]               0\n",
      "          Conv2d-290          [-1, 896, 13, 13]         230,272\n",
      "            ReLU-291          [-1, 896, 13, 13]               0\n",
      "         Block17-292          [-1, 896, 13, 13]               0\n",
      "          Conv2d-293          [-1, 128, 13, 13]         114,688\n",
      "     BatchNorm2d-294          [-1, 128, 13, 13]             256\n",
      "            ReLU-295          [-1, 128, 13, 13]               0\n",
      "     BasicConv2d-296          [-1, 128, 13, 13]               0\n",
      "          Conv2d-297          [-1, 128, 13, 13]         114,688\n",
      "     BatchNorm2d-298          [-1, 128, 13, 13]             256\n",
      "            ReLU-299          [-1, 128, 13, 13]               0\n",
      "     BasicConv2d-300          [-1, 128, 13, 13]               0\n",
      "          Conv2d-301          [-1, 128, 13, 13]         114,688\n",
      "     BatchNorm2d-302          [-1, 128, 13, 13]             256\n",
      "            ReLU-303          [-1, 128, 13, 13]               0\n",
      "     BasicConv2d-304          [-1, 128, 13, 13]               0\n",
      "          Conv2d-305          [-1, 128, 13, 13]         114,688\n",
      "     BatchNorm2d-306          [-1, 128, 13, 13]             256\n",
      "            ReLU-307          [-1, 128, 13, 13]               0\n",
      "     BasicConv2d-308          [-1, 128, 13, 13]               0\n",
      "          Conv2d-309          [-1, 896, 13, 13]         230,272\n",
      "            ReLU-310          [-1, 896, 13, 13]               0\n",
      "         Block17-311          [-1, 896, 13, 13]               0\n",
      "          Conv2d-312          [-1, 128, 13, 13]         114,688\n",
      "     BatchNorm2d-313          [-1, 128, 13, 13]             256\n",
      "            ReLU-314          [-1, 128, 13, 13]               0\n",
      "     BasicConv2d-315          [-1, 128, 13, 13]               0\n",
      "          Conv2d-316          [-1, 128, 13, 13]         114,688\n",
      "     BatchNorm2d-317          [-1, 128, 13, 13]             256\n",
      "            ReLU-318          [-1, 128, 13, 13]               0\n",
      "     BasicConv2d-319          [-1, 128, 13, 13]               0\n",
      "          Conv2d-320          [-1, 128, 13, 13]         114,688\n",
      "     BatchNorm2d-321          [-1, 128, 13, 13]             256\n",
      "            ReLU-322          [-1, 128, 13, 13]               0\n",
      "     BasicConv2d-323          [-1, 128, 13, 13]               0\n",
      "          Conv2d-324          [-1, 128, 13, 13]         114,688\n",
      "     BatchNorm2d-325          [-1, 128, 13, 13]             256\n",
      "            ReLU-326          [-1, 128, 13, 13]               0\n",
      "     BasicConv2d-327          [-1, 128, 13, 13]               0\n",
      "          Conv2d-328          [-1, 896, 13, 13]         230,272\n",
      "            ReLU-329          [-1, 896, 13, 13]               0\n",
      "         Block17-330          [-1, 896, 13, 13]               0\n",
      "          Conv2d-331          [-1, 128, 13, 13]         114,688\n",
      "     BatchNorm2d-332          [-1, 128, 13, 13]             256\n",
      "            ReLU-333          [-1, 128, 13, 13]               0\n",
      "     BasicConv2d-334          [-1, 128, 13, 13]               0\n",
      "          Conv2d-335          [-1, 128, 13, 13]         114,688\n",
      "     BatchNorm2d-336          [-1, 128, 13, 13]             256\n",
      "            ReLU-337          [-1, 128, 13, 13]               0\n",
      "     BasicConv2d-338          [-1, 128, 13, 13]               0\n",
      "          Conv2d-339          [-1, 128, 13, 13]         114,688\n",
      "     BatchNorm2d-340          [-1, 128, 13, 13]             256\n",
      "            ReLU-341          [-1, 128, 13, 13]               0\n",
      "     BasicConv2d-342          [-1, 128, 13, 13]               0\n",
      "          Conv2d-343          [-1, 128, 13, 13]         114,688\n",
      "     BatchNorm2d-344          [-1, 128, 13, 13]             256\n",
      "            ReLU-345          [-1, 128, 13, 13]               0\n",
      "     BasicConv2d-346          [-1, 128, 13, 13]               0\n",
      "          Conv2d-347          [-1, 896, 13, 13]         230,272\n",
      "            ReLU-348          [-1, 896, 13, 13]               0\n",
      "         Block17-349          [-1, 896, 13, 13]               0\n",
      "          Conv2d-350          [-1, 128, 13, 13]         114,688\n",
      "     BatchNorm2d-351          [-1, 128, 13, 13]             256\n",
      "            ReLU-352          [-1, 128, 13, 13]               0\n",
      "     BasicConv2d-353          [-1, 128, 13, 13]               0\n",
      "          Conv2d-354          [-1, 128, 13, 13]         114,688\n",
      "     BatchNorm2d-355          [-1, 128, 13, 13]             256\n",
      "            ReLU-356          [-1, 128, 13, 13]               0\n",
      "     BasicConv2d-357          [-1, 128, 13, 13]               0\n",
      "          Conv2d-358          [-1, 128, 13, 13]         114,688\n",
      "     BatchNorm2d-359          [-1, 128, 13, 13]             256\n",
      "            ReLU-360          [-1, 128, 13, 13]               0\n",
      "     BasicConv2d-361          [-1, 128, 13, 13]               0\n",
      "          Conv2d-362          [-1, 128, 13, 13]         114,688\n",
      "     BatchNorm2d-363          [-1, 128, 13, 13]             256\n",
      "            ReLU-364          [-1, 128, 13, 13]               0\n",
      "     BasicConv2d-365          [-1, 128, 13, 13]               0\n",
      "          Conv2d-366          [-1, 896, 13, 13]         230,272\n",
      "            ReLU-367          [-1, 896, 13, 13]               0\n",
      "         Block17-368          [-1, 896, 13, 13]               0\n",
      "          Conv2d-369          [-1, 256, 13, 13]         229,376\n",
      "     BatchNorm2d-370          [-1, 256, 13, 13]             512\n",
      "            ReLU-371          [-1, 256, 13, 13]               0\n",
      "     BasicConv2d-372          [-1, 256, 13, 13]               0\n",
      "          Conv2d-373            [-1, 384, 6, 6]         884,736\n",
      "     BatchNorm2d-374            [-1, 384, 6, 6]             768\n",
      "            ReLU-375            [-1, 384, 6, 6]               0\n",
      "     BasicConv2d-376            [-1, 384, 6, 6]               0\n",
      "          Conv2d-377          [-1, 256, 13, 13]         229,376\n",
      "     BatchNorm2d-378          [-1, 256, 13, 13]             512\n",
      "            ReLU-379          [-1, 256, 13, 13]               0\n",
      "     BasicConv2d-380          [-1, 256, 13, 13]               0\n",
      "          Conv2d-381            [-1, 256, 6, 6]         589,824\n",
      "     BatchNorm2d-382            [-1, 256, 6, 6]             512\n",
      "            ReLU-383            [-1, 256, 6, 6]               0\n",
      "     BasicConv2d-384            [-1, 256, 6, 6]               0\n",
      "          Conv2d-385          [-1, 256, 13, 13]         229,376\n",
      "     BatchNorm2d-386          [-1, 256, 13, 13]             512\n",
      "            ReLU-387          [-1, 256, 13, 13]               0\n",
      "     BasicConv2d-388          [-1, 256, 13, 13]               0\n",
      "          Conv2d-389          [-1, 256, 13, 13]         589,824\n",
      "     BatchNorm2d-390          [-1, 256, 13, 13]             512\n",
      "            ReLU-391          [-1, 256, 13, 13]               0\n",
      "     BasicConv2d-392          [-1, 256, 13, 13]               0\n",
      "          Conv2d-393            [-1, 256, 6, 6]         589,824\n",
      "     BatchNorm2d-394            [-1, 256, 6, 6]             512\n",
      "            ReLU-395            [-1, 256, 6, 6]               0\n",
      "     BasicConv2d-396            [-1, 256, 6, 6]               0\n",
      "       MaxPool2d-397            [-1, 896, 6, 6]               0\n",
      "        Mixed_7a-398           [-1, 1792, 6, 6]               0\n",
      "          Conv2d-399            [-1, 192, 6, 6]         344,064\n",
      "     BatchNorm2d-400            [-1, 192, 6, 6]             384\n",
      "            ReLU-401            [-1, 192, 6, 6]               0\n",
      "     BasicConv2d-402            [-1, 192, 6, 6]               0\n",
      "          Conv2d-403            [-1, 192, 6, 6]         344,064\n",
      "     BatchNorm2d-404            [-1, 192, 6, 6]             384\n",
      "            ReLU-405            [-1, 192, 6, 6]               0\n",
      "     BasicConv2d-406            [-1, 192, 6, 6]               0\n",
      "          Conv2d-407            [-1, 192, 6, 6]         110,592\n",
      "     BatchNorm2d-408            [-1, 192, 6, 6]             384\n",
      "            ReLU-409            [-1, 192, 6, 6]               0\n",
      "     BasicConv2d-410            [-1, 192, 6, 6]               0\n",
      "          Conv2d-411            [-1, 192, 6, 6]         110,592\n",
      "     BatchNorm2d-412            [-1, 192, 6, 6]             384\n",
      "            ReLU-413            [-1, 192, 6, 6]               0\n",
      "     BasicConv2d-414            [-1, 192, 6, 6]               0\n",
      "          Conv2d-415           [-1, 1792, 6, 6]         689,920\n",
      "            ReLU-416           [-1, 1792, 6, 6]               0\n",
      "          Block8-417           [-1, 1792, 6, 6]               0\n",
      "          Conv2d-418            [-1, 192, 6, 6]         344,064\n",
      "     BatchNorm2d-419            [-1, 192, 6, 6]             384\n",
      "            ReLU-420            [-1, 192, 6, 6]               0\n",
      "     BasicConv2d-421            [-1, 192, 6, 6]               0\n",
      "          Conv2d-422            [-1, 192, 6, 6]         344,064\n",
      "     BatchNorm2d-423            [-1, 192, 6, 6]             384\n",
      "            ReLU-424            [-1, 192, 6, 6]               0\n",
      "     BasicConv2d-425            [-1, 192, 6, 6]               0\n",
      "          Conv2d-426            [-1, 192, 6, 6]         110,592\n",
      "     BatchNorm2d-427            [-1, 192, 6, 6]             384\n",
      "            ReLU-428            [-1, 192, 6, 6]               0\n",
      "     BasicConv2d-429            [-1, 192, 6, 6]               0\n",
      "          Conv2d-430            [-1, 192, 6, 6]         110,592\n",
      "     BatchNorm2d-431            [-1, 192, 6, 6]             384\n",
      "            ReLU-432            [-1, 192, 6, 6]               0\n",
      "     BasicConv2d-433            [-1, 192, 6, 6]               0\n",
      "          Conv2d-434           [-1, 1792, 6, 6]         689,920\n",
      "            ReLU-435           [-1, 1792, 6, 6]               0\n",
      "          Block8-436           [-1, 1792, 6, 6]               0\n",
      "          Conv2d-437            [-1, 192, 6, 6]         344,064\n",
      "     BatchNorm2d-438            [-1, 192, 6, 6]             384\n",
      "            ReLU-439            [-1, 192, 6, 6]               0\n",
      "     BasicConv2d-440            [-1, 192, 6, 6]               0\n",
      "          Conv2d-441            [-1, 192, 6, 6]         344,064\n",
      "     BatchNorm2d-442            [-1, 192, 6, 6]             384\n",
      "            ReLU-443            [-1, 192, 6, 6]               0\n",
      "     BasicConv2d-444            [-1, 192, 6, 6]               0\n",
      "          Conv2d-445            [-1, 192, 6, 6]         110,592\n",
      "     BatchNorm2d-446            [-1, 192, 6, 6]             384\n",
      "            ReLU-447            [-1, 192, 6, 6]               0\n",
      "     BasicConv2d-448            [-1, 192, 6, 6]               0\n",
      "          Conv2d-449            [-1, 192, 6, 6]         110,592\n",
      "     BatchNorm2d-450            [-1, 192, 6, 6]             384\n",
      "            ReLU-451            [-1, 192, 6, 6]               0\n",
      "     BasicConv2d-452            [-1, 192, 6, 6]               0\n",
      "          Conv2d-453           [-1, 1792, 6, 6]         689,920\n",
      "            ReLU-454           [-1, 1792, 6, 6]               0\n",
      "          Block8-455           [-1, 1792, 6, 6]               0\n",
      "          Conv2d-456            [-1, 192, 6, 6]         344,064\n",
      "     BatchNorm2d-457            [-1, 192, 6, 6]             384\n",
      "            ReLU-458            [-1, 192, 6, 6]               0\n",
      "     BasicConv2d-459            [-1, 192, 6, 6]               0\n",
      "          Conv2d-460            [-1, 192, 6, 6]         344,064\n",
      "     BatchNorm2d-461            [-1, 192, 6, 6]             384\n",
      "            ReLU-462            [-1, 192, 6, 6]               0\n",
      "     BasicConv2d-463            [-1, 192, 6, 6]               0\n",
      "          Conv2d-464            [-1, 192, 6, 6]         110,592\n",
      "     BatchNorm2d-465            [-1, 192, 6, 6]             384\n",
      "            ReLU-466            [-1, 192, 6, 6]               0\n",
      "     BasicConv2d-467            [-1, 192, 6, 6]               0\n",
      "          Conv2d-468            [-1, 192, 6, 6]         110,592\n",
      "     BatchNorm2d-469            [-1, 192, 6, 6]             384\n",
      "            ReLU-470            [-1, 192, 6, 6]               0\n",
      "     BasicConv2d-471            [-1, 192, 6, 6]               0\n",
      "          Conv2d-472           [-1, 1792, 6, 6]         689,920\n",
      "            ReLU-473           [-1, 1792, 6, 6]               0\n",
      "          Block8-474           [-1, 1792, 6, 6]               0\n",
      "          Conv2d-475            [-1, 192, 6, 6]         344,064\n",
      "     BatchNorm2d-476            [-1, 192, 6, 6]             384\n",
      "            ReLU-477            [-1, 192, 6, 6]               0\n",
      "     BasicConv2d-478            [-1, 192, 6, 6]               0\n",
      "          Conv2d-479            [-1, 192, 6, 6]         344,064\n",
      "     BatchNorm2d-480            [-1, 192, 6, 6]             384\n",
      "            ReLU-481            [-1, 192, 6, 6]               0\n",
      "     BasicConv2d-482            [-1, 192, 6, 6]               0\n",
      "          Conv2d-483            [-1, 192, 6, 6]         110,592\n",
      "     BatchNorm2d-484            [-1, 192, 6, 6]             384\n",
      "            ReLU-485            [-1, 192, 6, 6]               0\n",
      "     BasicConv2d-486            [-1, 192, 6, 6]               0\n",
      "          Conv2d-487            [-1, 192, 6, 6]         110,592\n",
      "     BatchNorm2d-488            [-1, 192, 6, 6]             384\n",
      "            ReLU-489            [-1, 192, 6, 6]               0\n",
      "     BasicConv2d-490            [-1, 192, 6, 6]               0\n",
      "          Conv2d-491           [-1, 1792, 6, 6]         689,920\n",
      "            ReLU-492           [-1, 1792, 6, 6]               0\n",
      "          Block8-493           [-1, 1792, 6, 6]               0\n",
      "          Conv2d-494            [-1, 192, 6, 6]         344,064\n",
      "     BatchNorm2d-495            [-1, 192, 6, 6]             384\n",
      "            ReLU-496            [-1, 192, 6, 6]               0\n",
      "     BasicConv2d-497            [-1, 192, 6, 6]               0\n",
      "          Conv2d-498            [-1, 192, 6, 6]         344,064\n",
      "     BatchNorm2d-499            [-1, 192, 6, 6]             384\n",
      "            ReLU-500            [-1, 192, 6, 6]               0\n",
      "     BasicConv2d-501            [-1, 192, 6, 6]               0\n",
      "          Conv2d-502            [-1, 192, 6, 6]         110,592\n",
      "     BatchNorm2d-503            [-1, 192, 6, 6]             384\n",
      "            ReLU-504            [-1, 192, 6, 6]               0\n",
      "     BasicConv2d-505            [-1, 192, 6, 6]               0\n",
      "          Conv2d-506            [-1, 192, 6, 6]         110,592\n",
      "     BatchNorm2d-507            [-1, 192, 6, 6]             384\n",
      "            ReLU-508            [-1, 192, 6, 6]               0\n",
      "     BasicConv2d-509            [-1, 192, 6, 6]               0\n",
      "          Conv2d-510           [-1, 1792, 6, 6]         689,920\n",
      "          Block8-511           [-1, 1792, 6, 6]               0\n",
      "AdaptiveAvgPool2d-512           [-1, 1792, 1, 1]               0\n",
      "         Dropout-513           [-1, 1792, 1, 1]               0\n",
      "          Linear-514                  [-1, 512]         917,504\n",
      "     BatchNorm1d-515                  [-1, 512]           1,024\n",
      "          Linear-516                    [-1, 4]           2,052\n",
      "================================================================\n",
      "Total params: 23,484,676\n",
      "Trainable params: 2,052\n",
      "Non-trainable params: 23,482,624\n",
      "----------------------------------------------------------------\n",
      "Input size (MB): 0.72\n",
      "Forward/backward pass size (MB): 236.45\n",
      "Params size (MB): 89.59\n",
      "Estimated Total Size (MB): 326.75\n",
      "----------------------------------------------------------------\n"
     ]
    }
   ],
   "source": [
    "from modules import Builder\n",
    "\n",
    "builder = Builder(cfg['model'])\n",
    "print(image_size)\n",
    "builder.summary(image_size)\n",
    "model = builder.getModel()"
   ]
  },
  {
   "cell_type": "code",
   "execution_count": 25,
   "metadata": {
    "vscode": {
     "languageId": "python"
    }
   },
   "outputs": [],
   "source": [
    "# declaration for learning and testing|\n",
    "criterion = nn.CrossEntropyLoss()\n",
    "optimizer = optim.SGD(model.parameters(), lr=0.001, momentum=0.9)\n",
    "scheduler = lr_scheduler.StepLR(optimizer, step_size=7, gamma=0.1)"
   ]
  },
  {
   "cell_type": "code",
   "execution_count": 39,
   "metadata": {
    "vscode": {
     "languageId": "python"
    }
   },
   "outputs": [
    {
     "name": "stdout",
     "output_type": "stream",
     "text": [
      "--------------------------------------------------\n",
      "Epoch 0/9\n",
      "train Loss: 0.2058 Acc: 0.9342 recall: 0.9367 Precision: 0.9344\n",
      "val Loss: 0.0583 Acc: 0.9667 recall: 0.9410 Precision: 0.9380\n",
      "--------------------------------------------------\n",
      "--------------------------------------------------\n",
      "Epoch 1/9\n",
      "train Loss: 0.2740 Acc: 0.9115 recall: 0.9156 Precision: 0.9103\n",
      "val Loss: 0.1147 Acc: 0.9500 recall: 0.9200 Precision: 0.9161\n",
      "--------------------------------------------------\n",
      "--------------------------------------------------\n",
      "Epoch 2/9\n",
      "train Loss: 0.2342 Acc: 0.9115 recall: 0.9133 Precision: 0.9115\n",
      "val Loss: 0.1441 Acc: 0.9667 recall: 0.9198 Precision: 0.9186\n",
      "--------------------------------------------------\n",
      "--------------------------------------------------\n",
      "Epoch 3/9\n",
      "train Loss: 0.1952 Acc: 0.9321 recall: 0.9382 Precision: 0.9298\n",
      "val Loss: 0.0340 Acc: 0.9833 recall: 0.9438 Precision: 0.9359\n",
      "--------------------------------------------------\n",
      "--------------------------------------------------\n",
      "Epoch 4/9\n",
      "train Loss: 0.2231 Acc: 0.9280 recall: 0.9297 Precision: 0.9289\n",
      "val Loss: 0.0759 Acc: 0.9667 recall: 0.9341 Precision: 0.9338\n",
      "--------------------------------------------------\n",
      "--------------------------------------------------\n",
      "Epoch 5/9\n",
      "train Loss: 0.2850 Acc: 0.9095 recall: 0.9090 Precision: 0.9091\n",
      "val Loss: 0.0477 Acc: 0.9833 recall: 0.9178 Precision: 0.9178\n",
      "--------------------------------------------------\n",
      "--------------------------------------------------\n",
      "Epoch 6/9\n",
      "train Loss: 0.2234 Acc: 0.9403 recall: 0.9427 Precision: 0.9391\n",
      "val Loss: 0.0438 Acc: 0.9833 recall: 0.9476 Precision: 0.9443\n",
      "--------------------------------------------------\n",
      "--------------------------------------------------\n",
      "Epoch 7/9\n",
      "train Loss: 0.2462 Acc: 0.9156 recall: 0.9206 Precision: 0.9193\n",
      "val Loss: 0.0498 Acc: 0.9833 recall: 0.9274 Precision: 0.9269\n",
      "--------------------------------------------------\n",
      "--------------------------------------------------\n",
      "Epoch 8/9\n",
      "train Loss: 0.2465 Acc: 0.9239 recall: 0.9232 Precision: 0.9263\n",
      "val Loss: 0.0658 Acc: 0.9833 recall: 0.9301 Precision: 0.9332\n",
      "--------------------------------------------------\n",
      "--------------------------------------------------\n",
      "Epoch 9/9\n",
      "train Loss: 0.1927 Acc: 0.9362 recall: 0.9424 Precision: 0.9363\n",
      "val Loss: 0.1032 Acc: 0.9667 recall: 0.9461 Precision: 0.9397\n",
      "--------------------------------------------------\n",
      "Training complete in 0m 55s\n",
      "Best val Acc: 0.983333\n"
     ]
    }
   ],
   "source": [
    "from modules import runner\n",
    "phases = ['train', 'val']\n",
    "# print(runner)\n",
    "model, train_evaluation_matrix, val_evaluation_matrix = runner(model, phases, criterion, optimizer, scheduler, dataloaders, dataset_sizes, num_epochs=10)"
   ]
  },
  {
   "cell_type": "code",
   "execution_count": 40,
   "metadata": {
    "vscode": {
     "languageId": "python"
    }
   },
   "outputs": [],
   "source": [
    "train_evaluation_numpy = train_evaluation_matrix.to('cpu').numpy()\n",
    "val_evaluation_numpy = val_evaluation_matrix.to('cpu').numpy()"
   ]
  },
  {
   "cell_type": "code",
   "execution_count": 71,
   "metadata": {
    "vscode": {
     "languageId": "python"
    }
   },
   "outputs": [
    {
     "name": "stdout",
     "output_type": "stream",
     "text": [
      "10 4\n"
     ]
    },
    {
     "data": {
      "image/png": "[encoded data removed]",
      "text/plain": [
       "<Figure size 800x480 with 1 Axes>"
      ]
     },
     "metadata": {
      "needs_background": "light"
     },
     "output_type": "display_data"
    },
    {
     "data": {
      "image/png": "[encoded data removed]",
      "text/plain": [
       "<Figure size 800x480 with 1 Axes>"
      ]
     },
     "metadata": {
      "needs_background": "light"
     },
     "output_type": "display_data"
    },
    {
     "data": {
      "image/png": "[encoded data removed]",
      "text/plain": [
       "<Figure size 800x480 with 1 Axes>"
      ]
     },
     "metadata": {
      "needs_background": "light"
     },
     "output_type": "display_data"
    },
    {
     "data": {
      "image/png": "[encoded data removed]",
      "text/plain": [
       "<Figure size 800x480 with 1 Axes>"
      ]
     },
     "metadata": {
      "needs_background": "light"
     },
     "output_type": "display_data"
    }
   ],
   "source": [
    "num_epochs, num_evaluations = train_evaluation_numpy.shape\n",
    "print(num_epochs, num_evaluations)\n",
    "\n",
    "\n",
    "title_list = ['loss', 'accuracy', 'recall', 'precision']\n",
    "for col, title in zip(range(0, num_evaluations), title_list):\n",
    "  plt.figure(figsize=(10, 6), dpi=80)\n",
    "  plt.ylabel(title)\n",
    "  plt.xlabel('epoch')\n",
    "  plt.plot(range(0, num_epochs), train_evaluation_numpy[:, col])\n",
    "  plt.show()"
   ]
  },
  {
   "cell_type": "code",
   "execution_count": 9,
   "metadata": {
    "vscode": {
     "languageId": "python"
    }
   },
   "outputs": [
    {
     "name": "stdout",
     "output_type": "stream",
     "text": [
      "Epoch 0/0\n",
      "----------\n",
      "test Loss: 0.1059 Acc: 0.9677\n",
      "\n",
      "Training complete in 0m 1s\n",
      "Best val Acc: 0.000000\n",
      "there is no return value becasue of test mode\n"
     ]
    }
   ],
   "source": [
    "phases = ['test']\n",
    "runner(model, phases, criterion, optimizer, scheduler, dataloaders, dataset_sizes, num_epochs=1)"
   ]
  },
  {
   "cell_type": "markdown",
   "metadata": {},
   "source": [
    "## Save trained model"
   ]
  },
  {
   "cell_type": "code",
   "execution_count": 10,
   "metadata": {
    "vscode": {
     "languageId": "python"
    }
   },
   "outputs": [
    {
     "name": "stdout",
     "output_type": "stream",
     "text": [
      "successfully saved model in ./data/face-extraction-model.pt\n"
     ]
    }
   ],
   "source": [
    "cfg = load_config()\n",
    "path_for_saving_model = cfg['path_for_saving_model']\n",
    "try: \n",
    "  torch.save(model.state_dict(), path_for_saving_model)\n",
    "  print(f'successfully saved model in {path_for_saving_model}')\n",
    "except:\n",
    "  print(f'failed saving model in {path_for_saving_model}')"
   ]
  },
  {
   "cell_type": "markdown",
   "metadata": {},
   "source": [
    "# [TEST] face_feature_extractor with trained classifier(last layer)"
   ]
  },
  {
   "cell_type": "code",
   "execution_count": 14,
   "metadata": {
    "vscode": {
     "languageId": "python"
    }
   },
   "outputs": [
    {
     "name": "stdout",
     "output_type": "stream",
     "text": [
      "outputs before softmax: tensor([[ 8.0832, -2.8448, -0.9191, -2.7058],\n",
      "        [-2.2343,  6.6496, -3.4869, -0.1292],\n",
      "        [ 8.1746,  0.0634, -0.0749, -7.4552],\n",
      "        [-1.7504, -2.5398, -2.4510,  5.6972]], device='cuda:0',\n",
      "       grad_fn=<AddmmBackward0>)\n",
      "outputs after softmax: tensor([[9.9984e-01, 1.7947e-05, 1.2311e-04, 2.0622e-05],\n",
      "        [1.3842e-04, 9.9869e-01, 3.9557e-05, 1.1361e-03],\n",
      "        [9.9944e-01, 3.0000e-04, 2.6125e-04, 1.6285e-07],\n",
      "        [5.8220e-04, 2.6439e-04, 2.8894e-04, 9.9886e-01]], device='cuda:0',\n",
      "       grad_fn=<SoftmaxBackward0>)\n",
      "tensor([0.9998, 0.9987, 0.9994, 0.9989], device='cuda:0',\n",
      "       grad_fn=<MaxBackward0>)\n",
      "\n",
      "\n",
      "outputs before softmax: tensor([[ 0.0463, -1.7936,  7.1511, -1.7509],\n",
      "        [-0.5652, -1.1555,  8.3769, -4.5262],\n",
      "        [-0.0802, -3.1068,  4.0859, -0.6531],\n",
      "        [-3.0848,  0.3338, -2.4058,  4.5731]], device='cuda:0',\n",
      "       grad_fn=<AddmmBackward0>)\n",
      "outputs after softmax: tensor([[8.2027e-04, 1.3029e-04, 9.9891e-01, 1.3597e-04],\n",
      "        [1.3075e-04, 7.2455e-05, 9.9979e-01, 2.4898e-06],\n",
      "        [1.5134e-02, 7.3370e-04, 9.7560e-01, 8.5333e-03],\n",
      "        [4.6493e-04, 1.4193e-02, 9.1677e-04, 9.8442e-01]], device='cuda:0',\n",
      "       grad_fn=<SoftmaxBackward0>)\n",
      "tensor([0.9989, 0.9998, 0.9756, 0.9844], device='cuda:0',\n",
      "       grad_fn=<MaxBackward0>)\n",
      "\n",
      "\n",
      "outputs before softmax: tensor([[-0.8138, -0.9400,  5.8675, -2.2752],\n",
      "        [-0.3715, -2.3639,  7.7142, -3.8061],\n",
      "        [ 0.2215, -0.8457,  6.9357, -3.4504],\n",
      "        [-0.2231, -2.9067,  6.8707, -2.6588]], device='cuda:0',\n",
      "       grad_fn=<AddmmBackward0>)\n",
      "outputs after softmax: tensor([[1.2508e-03, 1.1025e-03, 9.9736e-01, 2.9006e-04],\n",
      "        [3.0781e-04, 4.1976e-05, 9.9964e-01, 9.9230e-06],\n",
      "        [1.2116e-03, 4.1675e-04, 9.9834e-01, 3.0807e-05],\n",
      "        [8.2946e-04, 5.6666e-05, 9.9904e-01, 7.2605e-05]], device='cuda:0',\n",
      "       grad_fn=<SoftmaxBackward0>)\n",
      "tensor([0.9974, 0.9996, 0.9983, 0.9990], device='cuda:0',\n",
      "       grad_fn=<MaxBackward0>)\n",
      "\n",
      "\n",
      "outputs before softmax: tensor([[-0.5986,  7.4425, -4.6341, -1.8294],\n",
      "        [ 0.3590, -2.3108,  7.1338, -4.2582],\n",
      "        [-3.5262, -1.6793, -0.8968,  7.7024],\n",
      "        [ 6.9994, -1.4540,  0.6751, -3.8923]], device='cuda:0',\n",
      "       grad_fn=<AddmmBackward0>)\n",
      "outputs after softmax: tensor([[3.2180e-04, 9.9958e-01, 5.6887e-06, 9.3988e-05],\n",
      "        [1.1407e-03, 7.9013e-05, 9.9877e-01, 1.1271e-05],\n",
      "        [1.3285e-05, 8.4229e-05, 1.8420e-04, 9.9972e-01],\n",
      "        [9.9798e-01, 2.1273e-04, 1.7886e-03, 1.8575e-05]], device='cuda:0',\n",
      "       grad_fn=<SoftmaxBackward0>)\n",
      "tensor([0.9996, 0.9988, 0.9997, 0.9980], device='cuda:0',\n",
      "       grad_fn=<MaxBackward0>)\n",
      "\n",
      "\n"
     ]
    }
   ],
   "source": [
    "phases = ['test']\n",
    "device = torch.device(\"cuda:0\" if torch.cuda.is_available() else \"cpu\")\n",
    "\n",
    "for phase in phases:\n",
    "  for i, (inputs, labels) in enumerate(dataloaders[phase]):\n",
    "    inputs = inputs.to(device)\n",
    "    labels = labels.to(device)\n",
    "\n",
    "    outputs = model(inputs)\n",
    "    print('outputs before softmax:', outputs)\n",
    "    outputs = F.softmax(outputs)\n",
    "    print('outputs after softmax:', outputs)\n",
    "    values, preds = torch.max(outputs, 1)\n",
    "    print(values)\n",
    "    \n",
    "    \n",
    "    print('\\n')\n",
    "    if i > 2:\n",
    "      break\n",
    "    "
   ]
  },
  {
   "cell_type": "code",
   "execution_count": 12,
   "metadata": {
    "vscode": {
     "languageId": "python"
    }
   },
   "outputs": [
    {
     "name": "stdout",
     "output_type": "stream",
     "text": [
      "preds:  tensor(6)\n",
      "true:  tensor(6)\n"
     ]
    }
   ],
   "source": [
    "import torch\n",
    "preds = torch.Tensor([1,1,1,1,0,1,0,0,0,1]).int().sum()\n",
    "print('preds: ',preds)\n",
    "true = torch.Tensor([0,1,1,1,0,1,0,0,1,1]).int().sum()\n",
    "print('true: ',true)\n"
   ]
  },
  {
   "cell_type": "code",
   "execution_count": 19,
   "metadata": {
    "vscode": {
     "languageId": "python"
    }
   },
   "outputs": [
    {
     "name": "stdout",
     "output_type": "stream",
     "text": [
      "tensor(0.9167, device='cuda:0') tensor(0.8333, device='cuda:0')\n"
     ]
    }
   ],
   "source": [
    "import torch\n",
    "\n",
    "preds_list = [1,1,1,0,0,0,1,1]\n",
    "labels_list = [1,1,1,0,0,1,1,1]\n",
    "\n",
    "\n",
    "def macro_evaluation(preds_list, labels_list):\n",
    "  device = torch.device(\"cuda:0\" if torch.cuda.is_available() else \"cpu\")\n",
    "\n",
    "  torch_preds = torch.Tensor(preds_list).int().to(device)\n",
    "  torch_labels = torch.Tensor(labels_list).int().to(device)\n",
    "\n",
    "  num_classes = len(torch.unique(torch_labels))\n",
    "  precision = 0\n",
    "  recall = 0\n",
    "  \n",
    "  for class_ in torch.unique(torch_labels):\n",
    "    temp_true = torch.where(torch_labels == class_, 1, 0)\n",
    "    temp_pred = torch.where(torch_preds == class_, 1, 0)\n",
    "    \n",
    "    tp = torch.where((temp_true == 1) & (temp_pred == 1), 1, 0).sum()\n",
    "    fp = torch.where((temp_true == 0) & (temp_pred == 1), 1, 0).sum()\n",
    "    fn = torch.where((temp_true == 1) & (temp_pred == 0), 1, 0).sum()\n",
    "    \n",
    "    temp_recall = tp / (tp + fn + 1e-6)\n",
    "    temp_precision = tp / (tp + fp + 1e-6)\n",
    "    \n",
    "    precision += temp_precision\n",
    "    recall += temp_recall\n",
    "  \n",
    "  precision /= num_classes\n",
    "  recall /= num_classes\n",
    "  \n",
    "  return recall, precision\n",
    "\n",
    "recall, precision = macro_precision(preds_list, labels_list)\n",
    "print(recall, precision)\n",
    "    "
   ]
  },
  {
   "cell_type": "code",
   "execution_count": null,
   "metadata": {
    "vscode": {
     "languageId": "python"
    }
   },
   "outputs": [],
   "source": []
  }
 ],
 "metadata": {
  "kernelspec": {
   "display_name": "python39",
   "language": "python",
   "name": "python39"
  },
  "orig_nbformat": 4,
  "vscode": {
   "interpreter": {
    "hash": "45d80257ccf4ae77bb116447a323b4ded5c7d4f4eb3ea993cf039511269910c8"
   }
  }
 },
 "nbformat": 4,
 "nbformat_minor": 2
}
