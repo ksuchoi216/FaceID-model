{
 "cells": [
  {
   "cell_type": "code",
   "execution_count": 1,
   "metadata": {},
   "outputs": [
    {
     "name": "stdout",
     "output_type": "stream",
     "text": [
      "/notebook\n"
     ]
    }
   ],
   "source": [
    "!pwd\n",
    "isLocalServer = True"
   ]
  },
  {
   "cell_type": "code",
   "execution_count": 2,
   "metadata": {},
   "outputs": [
    {
     "name": "stdout",
     "output_type": "stream",
     "text": [
      "sys.path: ['/notebook/personal/ksuchoi216/faceID-model/', '/notebook', '/root/.pyenv/versions/3.9.1/lib/python39.zip', '/root/.pyenv/versions/3.9.1/lib/python3.9', '/root/.pyenv/versions/3.9.1/lib/python3.9/lib-dynload', '', '/root/.pyenv/versions/python39/lib/python3.9/site-packages']\n"
     ]
    },
    {
     "ename": "NameError",
     "evalue": "name 'dataframe' is not defined",
     "output_type": "error",
     "traceback": [
      "\u001b[0;31m---------------------------------------------------------------------------\u001b[0m",
      "\u001b[0;31mNameError\u001b[0m                                 Traceback (most recent call last)",
      "\u001b[1;32m/data/docker/notebook/personal/ksuchoi216/faceID-model/pca.ipynb Cell 2\u001b[0m in \u001b[0;36m<cell line: 27>\u001b[0;34m()\u001b[0m\n\u001b[1;32m     <a href='vscode-notebook-cell://ssh-remote%2B192.168.1.100/data/docker/notebook/personal/ksuchoi216/faceID-model/pca.ipynb#W1sdnNjb2RlLXJlbW90ZQ%3D%3D?line=23'>24</a>\u001b[0m \u001b[39mif\u001b[39;00m isLocalServer \u001b[39mis\u001b[39;00m \u001b[39mTrue\u001b[39;00m:\n\u001b[1;32m     <a href='vscode-notebook-cell://ssh-remote%2B192.168.1.100/data/docker/notebook/personal/ksuchoi216/faceID-model/pca.ipynb#W1sdnNjb2RlLXJlbW90ZQ%3D%3D?line=24'>25</a>\u001b[0m   path_add_to_sys_path(\u001b[39m'\u001b[39m\u001b[39m/notebook/personal/ksuchoi216/faceID-model/\u001b[39m\u001b[39m'\u001b[39m)\n\u001b[0;32m---> <a href='vscode-notebook-cell://ssh-remote%2B192.168.1.100/data/docker/notebook/personal/ksuchoi216/faceID-model/pca.ipynb#W1sdnNjb2RlLXJlbW90ZQ%3D%3D?line=26'>27</a>\u001b[0m \u001b[39mfrom\u001b[39;00m \u001b[39mutils\u001b[39;00m \u001b[39mimport\u001b[39;00m load_config\n\u001b[1;32m     <a href='vscode-notebook-cell://ssh-remote%2B192.168.1.100/data/docker/notebook/personal/ksuchoi216/faceID-model/pca.ipynb#W1sdnNjb2RlLXJlbW90ZQ%3D%3D?line=27'>28</a>\u001b[0m cfg \u001b[39m=\u001b[39m load_config(\u001b[39m'\u001b[39m\u001b[39mconfig_pca.json\u001b[39m\u001b[39m'\u001b[39m)\n",
      "File \u001b[0;32m/notebook/personal/ksuchoi216/faceID-model/utils/__init__.py:3\u001b[0m, in \u001b[0;36m<module>\u001b[0;34m\u001b[0m\n\u001b[1;32m      1\u001b[0m \u001b[39mfrom\u001b[39;00m \u001b[39m.\u001b[39;00m\u001b[39mdraw\u001b[39;00m \u001b[39mimport\u001b[39;00m \u001b[39m*\u001b[39m\n\u001b[1;32m      2\u001b[0m \u001b[39mfrom\u001b[39;00m \u001b[39m.\u001b[39;00m\u001b[39mbasic\u001b[39;00m \u001b[39mimport\u001b[39;00m \u001b[39m*\u001b[39m\n\u001b[0;32m----> 3\u001b[0m \u001b[39mfrom\u001b[39;00m \u001b[39m.\u001b[39;00m\u001b[39mpca\u001b[39;00m \u001b[39mimport\u001b[39;00m \u001b[39m*\u001b[39m\n",
      "File \u001b[0;32m/notebook/personal/ksuchoi216/faceID-model/utils/pca.py:4\u001b[0m, in \u001b[0;36m<module>\u001b[0;34m\u001b[0m\n\u001b[1;32m      2\u001b[0m \u001b[39mfrom\u001b[39;00m \u001b[39msklearn\u001b[39;00m\u001b[39m.\u001b[39;00m\u001b[39mpreprocessing\u001b[39;00m \u001b[39mimport\u001b[39;00m StandardScaler\n\u001b[1;32m      3\u001b[0m \u001b[39mimport\u001b[39;00m \u001b[39mseaborn\u001b[39;00m \u001b[39mas\u001b[39;00m \u001b[39msns\u001b[39;00m\n\u001b[0;32m----> 4\u001b[0m \u001b[39mdef\u001b[39;00m \u001b[39mexecute_pca\u001b[39m(df: dataframe, column \u001b[39m=\u001b[39m \u001b[39mNone\u001b[39;00m):\n\u001b[1;32m      5\u001b[0m   \u001b[39mif\u001b[39;00m column \u001b[39mis\u001b[39;00m \u001b[39mNone\u001b[39;00m:\n\u001b[1;32m      6\u001b[0m     \u001b[39mreturn\u001b[39;00m \u001b[39mprint\u001b[39m(\u001b[39mf\u001b[39m\u001b[39m'\u001b[39m\u001b[39mThere is no designated column to be passed to pca\u001b[39m\u001b[39m'\u001b[39m)\n",
      "\u001b[0;31mNameError\u001b[0m: name 'dataframe' is not defined"
     ]
    }
   ],
   "source": [
    "%load_ext autoreload\n",
    "%autoreload 2\n",
    "%matplotlib inline\n",
    "import json, os, sys\n",
    "import matplotlib.pyplot as plt\n",
    "\n",
    "import torch\n",
    "import torch.nn as nn\n",
    "import torch.optim as optim\n",
    "from torch.optim import lr_scheduler\n",
    "import torch.backends.cudnn as cudnn\n",
    "\n",
    "cudnn.benchmark = True\n",
    "plt.ion()\n",
    "\n",
    "def path_add_to_sys_path(path_to_be_add):\n",
    "  # path_to_be_add = '/notebook/personal/ksuchoi216/face-id-model/'\n",
    "  if not path_to_be_add in sys.path:\n",
    "    sys.path.insert(0, path_to_be_add)\n",
    "    os.chdir(path_to_be_add)\n",
    "\n",
    "  print(f'sys.path: {sys.path}')\n",
    "\n",
    "if isLocalServer is True:\n",
    "  path_add_to_sys_path('/notebook/personal/ksuchoi216/faceID-model/')\n",
    "  \n",
    "from utils import load_config\n",
    "cfg = load_config('config_pca.json')"
   ]
  },
  {
   "cell_type": "markdown",
   "metadata": {},
   "source": [
    "# Loading model and data"
   ]
  },
  {
   "cell_type": "code",
   "execution_count": null,
   "metadata": {},
   "outputs": [],
   "source": [
    "from datasets import Folder_Dataset\n",
    "from utils import imshow_dataloader\n",
    "\n",
    "folder_Dataset = Folder_Dataset(cfg['embedding'])\n",
    "dataloaders, dataset_sizes, idx_to_class = folder_Dataset.createDataLoaders()\n",
    "\n",
    "phase=\"train\"\n",
    "for i, (img, label) in enumerate(dataloaders[phase]):\n",
    "  if i >= 3:\n",
    "    break\n",
    "  plt.imshow(img)\n",
    "  plt.axis('off')\n",
    "  plt.show()\n",
    "  print(f'label: {label}')  "
   ]
  },
  {
   "cell_type": "code",
   "execution_count": null,
   "metadata": {},
   "outputs": [],
   "source": [
    "from modules import Builder\n",
    "import torchsummary\n",
    "\n",
    "cfg = load_config('config_pca.json')\n",
    "builder_classification = Builder(cfg['model_for_classification'])\n",
    "builder_embedding = Builder(cfg['model_for_embedding'])\n",
    "model_for_classification = builder_classification.loadModel('./data/face-extraction-model.pt', 'cpu')\n",
    "model_for_embedding = builder_embedding.getModel('cpu').eval()\n",
    "print(model_for_embedding)"
   ]
  },
  {
   "cell_type": "markdown",
   "metadata": {},
   "source": [
    "# Feature extraction and data transfromation"
   ]
  },
  {
   "cell_type": "code",
   "execution_count": 5,
   "metadata": {},
   "outputs": [
    {
     "ename": "ModuleNotFoundError",
     "evalue": "No module named 'external_library'",
     "output_type": "error",
     "traceback": [
      "\u001b[0;31m---------------------------------------------------------------------------\u001b[0m",
      "\u001b[0;31mModuleNotFoundError\u001b[0m                       Traceback (most recent call last)",
      "\u001b[1;32m/data/docker/notebook/personal/ksuchoi216/faceID-model/pca.ipynb Cell 7\u001b[0m in \u001b[0;36m<cell line: 1>\u001b[0;34m()\u001b[0m\n\u001b[0;32m----> <a href='vscode-notebook-cell://ssh-remote%2B192.168.1.100/data/docker/notebook/personal/ksuchoi216/faceID-model/pca.ipynb#W6sdnNjb2RlLXJlbW90ZQ%3D%3D?line=0'>1</a>\u001b[0m \u001b[39mfrom\u001b[39;00m \u001b[39mexternal_library\u001b[39;00m \u001b[39mimport\u001b[39;00m MTCNN\n\u001b[1;32m      <a href='vscode-notebook-cell://ssh-remote%2B192.168.1.100/data/docker/notebook/personal/ksuchoi216/faceID-model/pca.ipynb#W6sdnNjb2RlLXJlbW90ZQ%3D%3D?line=1'>2</a>\u001b[0m face_detector \u001b[39m=\u001b[39m MTCNN(image_size\u001b[39m=\u001b[39m\u001b[39m240\u001b[39m, margin\u001b[39m=\u001b[39m\u001b[39m0\u001b[39m, keep_all\u001b[39m=\u001b[39m\u001b[39mTrue\u001b[39;00m, min_face_size\u001b[39m=\u001b[39m\u001b[39m40\u001b[39m)\n\u001b[1;32m      <a href='vscode-notebook-cell://ssh-remote%2B192.168.1.100/data/docker/notebook/personal/ksuchoi216/faceID-model/pca.ipynb#W6sdnNjb2RlLXJlbW90ZQ%3D%3D?line=4'>5</a>\u001b[0m \u001b[39mfrom\u001b[39;00m \u001b[39mutils\u001b[39;00m \u001b[39mimport\u001b[39;00m imshow_denormalization\n",
      "\u001b[0;31mModuleNotFoundError\u001b[0m: No module named 'external_library'"
     ]
    }
   ],
   "source": [
    "from external_library import MTCNN\n",
    "face_detector = MTCNN(image_size=240, margin=0, keep_all=True, min_face_size=40)\n",
    "\n",
    "\n",
    "from utils import imshow_denormalization\n",
    "import matplotlib.pyplot as plt\n",
    "from PIL import Image\n",
    "import numpy as np\n",
    "\n",
    "# phases = ['train', 'val', 'test']\n",
    "phases = ['test']\n",
    "for phase in phases:\n",
    "  print(f'phase: {phase}')\n",
    "  \n",
    "  image_list = []\n",
    "  model_preds_list = []\n",
    "  model_embs_list = []\n",
    "  label_list = []\n",
    "  \n",
    "  for i, (img, label) in enumerate(dataloaders[phase]):\n",
    "    face, _ = face_detector(img, return_prob = True)\n",
    "    # print(face.shape)\n",
    "    \n",
    "    if face is not None:\n",
    "      prods = model_for_classification(face)\n",
    "      prods = torch.sigmoid(prods)\n",
    "      _, pred = torch.max(prods, 1)\n",
    "      pred = pred.numpy()\n",
    "      \n",
    "      # face = torch.squeeze(face)\n",
    "      emb = model_for_embedding(face)\n",
    "      emb = torch.squeeze(emb).numpy()\n",
    "      \n",
    "      if emb.shape[0] != 512:\n",
    "        print(f'dimension errror - output.shape: {emb.shape[0]}')\n",
    "      \n",
    "      face = torch.squeeze(face).view(-1,).numpy()\n",
    "              \n",
    "      image_list.append(face)\n",
    "      model_preds_list.append(pred)\n",
    "      model_embs_list.append(emb)\n",
    "      label_list.append(label)\n",
    "  \n",
    "    print(f'{i:4}... img shape: {face.shape} pred shape: {pred.shape} emb shape: {emb.shape} label: {label}')  \n",
    "  \n",
    "  path_for_image_data = './data/'+phase+'_image.npy'\n",
    "  path_for_pred_data = './data/'+phase+'_pred.npy'\n",
    "  path_for_emb_data = './data/'+phase+'_emb.npy'\n",
    "  path_for_label_data = './data/'+phase+'_label.npy'\n",
    "  \n",
    "  image_numpy = np.array(image_list)\n",
    "  pred_numpy = np.array(model_preds_list)\n",
    "  emb_numpy = np.array(model_embs_list)\n",
    "  label_numpy = np.array(label_list)\n",
    "  \n",
    "  np.save(path_for_image_data, image_numpy, allow_pickle=True)\n",
    "  np.save(path_for_pred_data, pred_numpy, allow_pickle=True)\n",
    "  np.save(path_for_emb_data, emb_numpy, allow_pickle=True)\n",
    "  np.save(path_for_label_data, label_numpy, allow_pickle=True)\n",
    "  # print(len(data_list))\n",
    "  print(f'{phase}_image.npy saved in {path_for_image_data}')\n",
    "  print(f'{phase}_pred.npy saved in {path_for_pred_data}')\n",
    "  print(f'{phase}_emb.npy saved in {path_for_emb_data}')\n",
    "  print(f'{phase}_label.npy saved in {path_for_label_data}')\n",
    "  \n",
    "  print('\\n')  "
   ]
  },
  {
   "cell_type": "code",
   "execution_count": null,
   "metadata": {},
   "outputs": [],
   "source": [
    "phase = phases[0]\n",
    "\n",
    "source = './data/'\n",
    "path_x_img = source + phase + '_image.npy'\n",
    "x_img = np.load(path_x_img, allow_pickle=True)\n",
    "\n",
    "\n",
    "path_x_pred = source + phase +'_pred.npy'\n",
    "x_pred = np.load(path_x_pred, allow_pickle=True)\n",
    "\n",
    "path_x_emb = source + phase +'_emb.npy'\n",
    "x_emb = np.load(path_x_emb, allow_pickle=True)\n",
    "\n",
    "path_y = source + phase + '_label.npy'\n",
    "y = np.load(path_y, allow_pickle=True)\n",
    "\n",
    "# val_path = source + 'val.npy'\n",
    "# test_path = source + 'test.npy'\n",
    "\n",
    "\n",
    "print(f'images shape: {x_img.shape} pred: {x_pred.shape} embedding: {x_emb.shape} y: {y.shape}')"
   ]
  },
  {
   "cell_type": "markdown",
   "metadata": {},
   "source": [
    "# PCA"
   ]
  },
  {
   "cell_type": "code",
   "execution_count": 3,
   "metadata": {},
   "outputs": [
    {
     "ename": "ModuleNotFoundError",
     "evalue": "No module named 'utils'",
     "output_type": "error",
     "traceback": [
      "\u001b[0;31m---------------------------------------------------------------------------\u001b[0m",
      "\u001b[0;31mModuleNotFoundError\u001b[0m                       Traceback (most recent call last)",
      "\u001b[0;32m<ipython-input-3-9cc2cbaafa5c>\u001b[0m in \u001b[0;36m<module>\u001b[0;34m\u001b[0m\n\u001b[1;32m      1\u001b[0m \u001b[0;31m#multiple numpy to dataframe\u001b[0m\u001b[0;34m\u001b[0m\u001b[0;34m\u001b[0m\u001b[0;34m\u001b[0m\u001b[0m\n\u001b[1;32m      2\u001b[0m \u001b[0;32mimport\u001b[0m \u001b[0mpandas\u001b[0m \u001b[0;32mas\u001b[0m \u001b[0mpd\u001b[0m\u001b[0;34m\u001b[0m\u001b[0;34m\u001b[0m\u001b[0m\n\u001b[0;32m----> 3\u001b[0;31m \u001b[0;32mfrom\u001b[0m \u001b[0mutils\u001b[0m \u001b[0;32mimport\u001b[0m \u001b[0mpca\u001b[0m\u001b[0;34m\u001b[0m\u001b[0;34m\u001b[0m\u001b[0m\n\u001b[0m\u001b[1;32m      4\u001b[0m \u001b[0;34m\u001b[0m\u001b[0m\n\u001b[1;32m      5\u001b[0m \u001b[0mcombined_arrray\u001b[0m \u001b[0;34m=\u001b[0m \u001b[0mnp\u001b[0m\u001b[0;34m.\u001b[0m\u001b[0mcolumn_stack\u001b[0m\u001b[0;34m(\u001b[0m\u001b[0;34m(\u001b[0m\u001b[0mpca1\u001b[0m\u001b[0;34m,\u001b[0m \u001b[0mpca2\u001b[0m\u001b[0;34m,\u001b[0m \u001b[0mtrue\u001b[0m\u001b[0;34m,\u001b[0m \u001b[0mpred\u001b[0m\u001b[0;34m,\u001b[0m \u001b[0merror\u001b[0m\u001b[0;34m)\u001b[0m\u001b[0;34m)\u001b[0m\u001b[0;34m\u001b[0m\u001b[0;34m\u001b[0m\u001b[0m\n",
      "\u001b[0;31mModuleNotFoundError\u001b[0m: No module named 'utils'"
     ]
    }
   ],
   "source": [
    "#multiple numpy to dataframe\n",
    "import pandas as pd\n",
    "from utils import pca\n",
    "\n",
    "combined_arrray = np.column_stack((pca1, pca2, true, pred, error))\n",
    "data_for_pca = pd.DataFrame(combined_array, columns = ['pca1','pca2','true', 'pred', 'error'])\n",
    "\n",
    "pca_x1, pca_x2 = execute_pca(data_for_pca)"
   ]
  },
  {
   "cell_type": "code",
   "execution_count": 72,
   "metadata": {},
   "outputs": [
    {
     "ename": "ImportError",
     "evalue": "cannot import name 'show_pca_with_prediction' from 'utils' (/notebook/personal/ksuchoi216/face-id-model/utils/__init__.py)",
     "output_type": "error",
     "traceback": [
      "\u001b[0;31m---------------------------------------------------------------------------\u001b[0m",
      "\u001b[0;31mImportError\u001b[0m                               Traceback (most recent call last)",
      "\u001b[1;32m/data/docker/notebook/personal/ksuchoi216/face-id-model/pca.ipynb Cell 10\u001b[0m in \u001b[0;36m<cell line: 1>\u001b[0;34m()\u001b[0m\n\u001b[0;32m----> <a href='vscode-notebook-cell://ssh-remote%2B192.168.1.100/data/docker/notebook/personal/ksuchoi216/face-id-model/pca.ipynb#X12sdnNjb2RlLXJlbW90ZQ%3D%3D?line=0'>1</a>\u001b[0m \u001b[39mfrom\u001b[39;00m \u001b[39mutils\u001b[39;00m \u001b[39mimport\u001b[39;00m show_pca, show_pca_with_prediction\n\u001b[1;32m      <a href='vscode-notebook-cell://ssh-remote%2B192.168.1.100/data/docker/notebook/personal/ksuchoi216/face-id-model/pca.ipynb#X12sdnNjb2RlLXJlbW90ZQ%3D%3D?line=1'>2</a>\u001b[0m label_list \u001b[39m=\u001b[39m [\u001b[39m'\u001b[39m\u001b[39mjhyoo\u001b[39m\u001b[39m'\u001b[39m, \u001b[39m'\u001b[39m\u001b[39mjhoh\u001b[39m\u001b[39m'\u001b[39m, \u001b[39m'\u001b[39m\u001b[39mjhongyoo\u001b[39m\u001b[39m'\u001b[39m, \u001b[39m'\u001b[39m\u001b[39mkschoi\u001b[39m\u001b[39m'\u001b[39m]\n\u001b[1;32m      <a href='vscode-notebook-cell://ssh-remote%2B192.168.1.100/data/docker/notebook/personal/ksuchoi216/face-id-model/pca.ipynb#X12sdnNjb2RlLXJlbW90ZQ%3D%3D?line=2'>3</a>\u001b[0m show_pca(x_img, y, label_list)\n",
      "\u001b[0;31mImportError\u001b[0m: cannot import name 'show_pca_with_prediction' from 'utils' (/notebook/personal/ksuchoi216/face-id-model/utils/__init__.py)"
     ]
    }
   ],
   "source": [
    "from utils import show_pca, show_pca_with_prediction\n",
    "label_list = ['jhyoo', 'jhoh', 'jhongyoo', 'kschoi']\n",
    "show_pca(x_img, y, label_list)"
   ]
  },
  {
   "cell_type": "code",
   "execution_count": 73,
   "metadata": {},
   "outputs": [
    {
     "data": {
      "image/png": "[encoded data removed]",
      "text/plain": [
       "<Figure size 1440x720 with 1 Axes>"
      ]
     },
     "metadata": {
      "needs_background": "light"
     },
     "output_type": "display_data"
    }
   ],
   "source": [
    "label_list = ['jhyoo', 'jhoh', 'jhongyoo', 'kschoi']\n",
    "show_pca(x_emb, y, label_list)"
   ]
  },
  {
   "cell_type": "code",
   "execution_count": null,
   "metadata": {},
   "outputs": [],
   "source": []
  }
 ],
 "metadata": {
  "kernelspec": {
   "display_name": "python39",
   "language": "python",
   "name": "python39"
  },
  "language_info": {
   "codemirror_mode": {
    "name": "ipython",
    "version": 3
   },
   "file_extension": ".py",
   "mimetype": "text/x-python",
   "name": "python",
   "nbconvert_exporter": "python",
   "pygments_lexer": "ipython3",
   "version": "3.9.1"
  },
  "orig_nbformat": 4,
  "vscode": {
   "interpreter": {
    "hash": "31f2aee4e71d21fbe5cf8b01ff0e069b9275f58929596ceb00d14d90e3e16cd6"
   }
  }
 },
 "nbformat": 4,
 "nbformat_minor": 2
}
