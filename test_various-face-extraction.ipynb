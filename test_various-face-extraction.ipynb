{
 "cells": [
  {
   "cell_type": "markdown",
   "metadata": {},
   "source": [
    "# TEST"
   ]
  },
  {
   "cell_type": "code",
   "execution_count": 13,
   "metadata": {},
   "outputs": [
    {
     "name": "stdout",
     "output_type": "stream",
     "text": [
      "/notebook/personal/ksuchoi216/FaceID-model\n",
      "The autoreload extension is already loaded. To reload it, use:\n",
      "  %reload_ext autoreload\n",
      "This is in the local server, therefore your folder path should be added to the system path.\n",
      "System path as follows:\n",
      "    /notebook/personal/ksuchoi216/FaceID-model/\n",
      "    /notebook/personal/ksuchoi216/faceID-model/\n",
      "    /notebook\n",
      "    /root/.pyenv/versions/3.9.1/lib/python39.zip\n",
      "    /root/.pyenv/versions/3.9.1/lib/python3.9\n",
      "    /root/.pyenv/versions/3.9.1/lib/python3.9/lib-dynload\n",
      "    \n",
      "    /root/.pyenv/versions/python39/lib/python3.9/site-packages\n"
     ]
    }
   ],
   "source": [
    "!pwd\n",
    "isLocalServer = True\n",
    "\n",
    "%load_ext autoreload\n",
    "%autoreload 2\n",
    "%matplotlib inline\n",
    "import json, sys, os\n",
    "\n",
    "if isLocalServer is True:\n",
    "  print(f'This is in the local server, therefore your folder path should be added to the system path.')\n",
    "  \n",
    "  sys_path_to_be_added = '/notebook/personal/ksuchoi216/FaceID-model/'\n",
    "  if not sys_path_to_be_added in sys.path:\n",
    "    sys.path.insert(0, sys_path_to_be_added)\n",
    "    os.chdir(sys_path_to_be_added)\n",
    "\n",
    "  print(f'System path as follows:')\n",
    "  for path in sys.path:\n",
    "    print(f'    {path}')\n",
    "\n",
    "from utils import load_config\n",
    "cfg = load_config('config_test-various-face-extraction.json')"
   ]
  },
  {
   "cell_type": "code",
   "execution_count": 14,
   "metadata": {},
   "outputs": [],
   "source": [
    "import numpy as np\n",
    "# loading numpy data\n",
    "\n",
    "def loadNumpyImagesToDict(user_names_list, data_source_path):\n",
    "  user_names = user_names_list\n",
    "  data_source = data_source_path\n",
    "\n",
    "  numpy_data = {}\n",
    "  print(numpy_data)\n",
    "  for i, user_name in enumerate(user_names):\n",
    "    print(i, user_name)\n",
    "    file_path = data_source + user_name + '_images.npy'\n",
    "    numpy_data[user_name] = np.load(file_path, allow_pickle=True)\n",
    "\n",
    "  print('example dimension: {}'.format(numpy_data['jhyoo'].shape))\n"
   ]
  },
  {
   "cell_type": "code",
   "execution_count": 16,
   "metadata": {},
   "outputs": [
    {
     "ename": "NameError",
     "evalue": "name 'numpy_data' is not defined",
     "output_type": "error",
     "traceback": [
      "\u001b[0;31m---------------------------------------------------------------------------\u001b[0m",
      "\u001b[0;31mNameError\u001b[0m                                 Traceback (most recent call last)",
      "\u001b[1;32m/data/docker/notebook/personal/ksuchoi216/FaceID-model/test_various-face-extraction.ipynb Cell 5\u001b[0m in \u001b[0;36m<cell line: 1>\u001b[0;34m()\u001b[0m\n\u001b[0;32m----> <a href='vscode-notebook-cell://ssh-remote%2B192.168.1.100/data/docker/notebook/personal/ksuchoi216/FaceID-model/test_various-face-extraction.ipynb#W4sdnNjb2RlLXJlbW90ZQ%3D%3D?line=0'>1</a>\u001b[0m test \u001b[39m=\u001b[39m numpy_data[\u001b[39m'\u001b[39m\u001b[39mjhyoo\u001b[39m\u001b[39m'\u001b[39m][\u001b[39m0\u001b[39m]\n\u001b[1;32m      <a href='vscode-notebook-cell://ssh-remote%2B192.168.1.100/data/docker/notebook/personal/ksuchoi216/FaceID-model/test_various-face-extraction.ipynb#W4sdnNjb2RlLXJlbW90ZQ%3D%3D?line=2'>3</a>\u001b[0m img \u001b[39m=\u001b[39m Image\u001b[39m.\u001b[39mfromarray(test)\n\u001b[1;32m      <a href='vscode-notebook-cell://ssh-remote%2B192.168.1.100/data/docker/notebook/personal/ksuchoi216/FaceID-model/test_various-face-extraction.ipynb#W4sdnNjb2RlLXJlbW90ZQ%3D%3D?line=4'>5</a>\u001b[0m plt\u001b[39m.\u001b[39mimshow(img)\n",
      "\u001b[0;31mNameError\u001b[0m: name 'numpy_data' is not defined"
     ]
    }
   ],
   "source": [
    "test = numpy_data['jhyoo'][0]\n",
    "\n",
    "img = Image.fromarray(test)\n",
    "\n",
    "plt.imshow(img)\n",
    "plt.show()"
   ]
  },
  {
   "cell_type": "code",
   "execution_count": 26,
   "metadata": {},
   "outputs": [
    {
     "name": "stdout",
     "output_type": "stream",
     "text": [
      "1/1 [==============================] - 0s 305ms/step\n",
      "2622\n",
      "1/1 [==============================] - 0s 94ms/step\n",
      "128\n",
      "1/1 [==============================] - 0s 114ms/step\n",
      "512\n",
      "1/1 [==============================] - 0s 34ms/step\n",
      "128\n",
      "1/1 [==============================] - 0s 134ms/step\n",
      "4096\n",
      "1/1 [==============================] - 0s 28ms/step\n",
      "160\n",
      "1/1 [==============================] - 0s 107ms/step\n",
      "512\n",
      "1/1 [==============================] - 0s 138ms/step\n",
      "2622\n",
      "1/1 [==============================] - 0s 75ms/step\n",
      "128\n",
      "1/1 [==============================] - 0s 71ms/step\n",
      "512\n",
      "1/1 [==============================] - 0s 38ms/step\n",
      "128\n",
      "1/1 [==============================] - 0s 80ms/step\n",
      "4096\n",
      "1/1 [==============================] - 0s 28ms/step\n",
      "160\n",
      "1/1 [==============================] - 0s 106ms/step\n",
      "512\n",
      "1/1 [==============================] - 0s 136ms/step\n",
      "2622\n",
      "1/1 [==============================] - 0s 78ms/step\n",
      "128\n",
      "1/1 [==============================] - 0s 73ms/step\n",
      "512\n",
      "1/1 [==============================] - 0s 38ms/step\n",
      "128\n",
      "1/1 [==============================] - 0s 84ms/step\n",
      "4096\n",
      "1/1 [==============================] - 0s 27ms/step\n",
      "160\n",
      "1/1 [==============================] - 0s 92ms/step\n",
      "512\n"
     ]
    }
   ],
   "source": [
    "from PIL import Image\n",
    "from deepface import DeepFace\n",
    "import matplotlib.pyplot as plt\n",
    "\n",
    "models = [\n",
    "  \"VGG-Face\", \n",
    "  \"Facenet\", \n",
    "  \"Facenet512\", \n",
    "  \"OpenFace\", \n",
    "  \"DeepFace\", \n",
    "  \"DeepID\", \n",
    "  \"ArcFace\", \n",
    "  # \"Dlib\", \n",
    "  # \"SFace\",\n",
    "]\n",
    "\n",
    "\n",
    "data_source = './data/photos_from_video/'\n",
    "user_names = cfg['user_names']\n",
    "theNumberOfImages = cfg['theNumberOfImages']\n",
    "for i, user_name in enumerate(user_names):\n",
    "  for num in range(theNumberOfImages):\n",
    "    img_path = data_source + user_name + '/' + str(num) + '.jpg'\n",
    "    for i in range(len(models)):\n",
    "      emb = DeepFace.represent(img_path=img_path, model_name = models[i])\n",
    "      print(len(emb))\n",
    "      \n",
    "    if num > 1:\n",
    "      break\n",
    "  if i > 1:\n",
    "    break"
   ]
  },
  {
   "cell_type": "code",
   "execution_count": null,
   "metadata": {},
   "outputs": [],
   "source": []
  }
 ],
 "metadata": {
  "kernelspec": {
   "display_name": "python39",
   "language": "python",
   "name": "python39"
  },
  "language_info": {
   "codemirror_mode": {
    "name": "ipython",
    "version": 3
   },
   "file_extension": ".py",
   "mimetype": "text/x-python",
   "name": "python",
   "nbconvert_exporter": "python",
   "pygments_lexer": "ipython3",
   "version": "3.9.1"
  },
  "orig_nbformat": 4,
  "vscode": {
   "interpreter": {
    "hash": "31f2aee4e71d21fbe5cf8b01ff0e069b9275f58929596ceb00d14d90e3e16cd6"
   }
  }
 },
 "nbformat": 4,
 "nbformat_minor": 2
}
